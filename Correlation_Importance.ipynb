{
 "cells": [
  {
   "cell_type": "markdown",
   "metadata": {},
   "source": [
    "# Mapping Cities As Flows - Correlation Values"
   ]
  },
  {
   "cell_type": "markdown",
   "metadata": {},
   "source": [
    "The most commonly adopted approach to evaluating the relative importance of each predictor in a model is to calculate what are known as ‘standardised’ regression coefficients. Instead of measuring the impact on the outcome variable of a one unit change the predictor variable, standard regression coefficients measure the impact of a one standard deviation change in the value of the predictor variable. The standard deviation is a measure of the spread/dispersion of a variable. Sixty-eight percent of all observations fall within +/- one standard deviation of the variable mean. Hence a one standard deviation change in the value of the predictor variable represents the same relative amount of change in ranking"
   ]
  },
  {
   "cell_type": "code",
   "execution_count": 10,
   "metadata": {},
   "outputs": [],
   "source": [
    "#load packages\n",
    "import pandas as pd"
   ]
  },
  {
   "cell_type": "code",
   "execution_count": 11,
   "metadata": {},
   "outputs": [],
   "source": [
    "import sklearn"
   ]
  },
  {
   "cell_type": "code",
   "execution_count": 98,
   "metadata": {},
   "outputs": [],
   "source": [
    "#setting to view more rows in the output\n",
    "pd.set_option('display.max_rows', 500)\n",
    "pd.set_option('display.max_columns', 500)\n",
    "pd.set_option('display.width', 1000)"
   ]
  },
  {
   "cell_type": "code",
   "execution_count": 65,
   "metadata": {},
   "outputs": [],
   "source": [
    "#load data\n",
    "data = pd.read_csv('trips.csv')  # reads 'csv' into df"
   ]
  },
  {
   "cell_type": "code",
   "execution_count": 74,
   "metadata": {},
   "outputs": [],
   "source": [
    "#specifiy columns to attain correlation coefficient for\n",
    "columns = ['total_trip_time','overall_full_dist','velo_mean','std_velo','max_velo','dist_trns_line','in_range','closest_motorway_dst','dist_trns_busline','train_conf','bus_conf','motorway_conf', 'label'] #, 'geometry'] "
   ]
  },
  {
   "cell_type": "code",
   "execution_count": 75,
   "metadata": {},
   "outputs": [],
   "source": [
    "#filter data on columns selected\n",
    "data = data[columns]"
   ]
  },
  {
   "cell_type": "code",
   "execution_count": 68,
   "metadata": {},
   "outputs": [],
   "source": [
    "#process to normalise each of the variables\n",
    "data['total_trip_time'] = data['total_trip_time'] / data['total_trip_time'].max()\n",
    "data[\"overall_full_dist\"] = data[\"overall_full_dist\"] / data[\"overall_full_dist\"].max()\n",
    "data[\"velo_mean\"] = data[\"velo_mean\"] / data[\"velo_mean\"].max()\n",
    "data[\"std_velo\"] = data[\"std_velo\"] / data[\"std_velo\"].max()\n",
    "data[\"max_velo\"] = data[\"max_velo\"] / data[\"max_velo\"].max()\n",
    "data[\"dist_trns_line\"] = data[\"dist_trns_line\"] / data[\"dist_trns_line\"].max()\n",
    "data[\"in_range\"] = data[\"in_range\"] / data[\"in_range\"].max()\n",
    "data[\"closest_motorway_dst\"] = data[\"closest_motorway_dst\"] / data[\"closest_motorway_dst\"].max()\n",
    "data[\"dist_trns_busline\"] = data[\"dist_trns_busline\"] / data[\"dist_trns_busline\"].max()\n",
    "data[\"train_conf\"] = data[\"train_conf\"] / data[\"train_conf\"].max()\n",
    "data[\"bus_conf\"] = data[\"bus_conf\"] / data[\"bus_conf\"].max()"
   ]
  },
  {
   "cell_type": "code",
   "execution_count": 76,
   "metadata": {},
   "outputs": [],
   "source": [
    "pearsons = data[data.columns[:]].corr()['label']"
   ]
  },
  {
   "cell_type": "code",
   "execution_count": null,
   "metadata": {},
   "outputs": [],
   "source": [
    "#pearsons correlation "
   ]
  },
  {
   "cell_type": "code",
   "execution_count": 77,
   "metadata": {},
   "outputs": [
    {
     "data": {
      "text/plain": [
       "total_trip_time         0.085233\n",
       "overall_full_dist       0.313164\n",
       "velo_mean               0.539729\n",
       "std_velo                0.529379\n",
       "max_velo                0.515872\n",
       "dist_trns_line         -0.072524\n",
       "in_range                0.475997\n",
       "closest_motorway_dst   -0.135708\n",
       "dist_trns_busline       0.075231\n",
       "train_conf              0.223637\n",
       "bus_conf               -0.368634\n",
       "motorway_conf           0.277704\n",
       "label                   1.000000\n",
       "Name: label, dtype: float64"
      ]
     },
     "execution_count": 77,
     "metadata": {},
     "output_type": "execute_result"
    }
   ],
   "source": [
    "pearsons"
   ]
  },
  {
   "cell_type": "code",
   "execution_count": 51,
   "metadata": {},
   "outputs": [],
   "source": [
    "#reset index on the df\n",
    "data.reset_index(inplace=True , drop=True)"
   ]
  },
  {
   "cell_type": "code",
   "execution_count": 6,
   "metadata": {},
   "outputs": [],
   "source": [
    "from scipy  import stats"
   ]
  },
  {
   "cell_type": "code",
   "execution_count": 2,
   "metadata": {},
   "outputs": [],
   "source": [
    "#extract correlation coefficient and the level of significance"
   ]
  },
  {
   "cell_type": "code",
   "execution_count": 111,
   "metadata": {},
   "outputs": [],
   "source": [
    "coeffmat = np.zeros(((data.shape[1]),1))"
   ]
  },
  {
   "cell_type": "code",
   "execution_count": 112,
   "metadata": {},
   "outputs": [],
   "source": [
    "pvalmat = np.zeros((data.shape[1],1))"
   ]
  },
  {
   "cell_type": "code",
   "execution_count": 118,
   "metadata": {},
   "outputs": [],
   "source": [
    "#process to print out the correlation coefficients as a dataframe\n",
    "for i in range(data.shape[1]):\n",
    "    corrtest = stats.pearsonr(data[data.columns[i]], data['label'])  \n",
    "\n",
    "    coeffmat[i] = corrtest[0]\n",
    "    pvalmat[i] = corrtest[1]\n",
    "\n",
    "dfcoeff = pd.DataFrame(coeffmat, index=data.columns)\n",
    "dfpval= pd.DataFrame(pvalmat, index=data.columns)"
   ]
  },
  {
   "cell_type": "code",
   "execution_count": 120,
   "metadata": {},
   "outputs": [
    {
     "data": {
      "text/html": [
       "<div>\n",
       "<style scoped>\n",
       "    .dataframe tbody tr th:only-of-type {\n",
       "        vertical-align: middle;\n",
       "    }\n",
       "\n",
       "    .dataframe tbody tr th {\n",
       "        vertical-align: top;\n",
       "    }\n",
       "\n",
       "    .dataframe thead th {\n",
       "        text-align: right;\n",
       "    }\n",
       "</style>\n",
       "<table border=\"1\" class=\"dataframe\">\n",
       "  <thead>\n",
       "    <tr style=\"text-align: right;\">\n",
       "      <th></th>\n",
       "      <th>0</th>\n",
       "      <th>0</th>\n",
       "    </tr>\n",
       "  </thead>\n",
       "  <tbody>\n",
       "    <tr>\n",
       "      <th>total_trip_time</th>\n",
       "      <td>0.085233</td>\n",
       "      <td>4.108662e-06</td>\n",
       "    </tr>\n",
       "    <tr>\n",
       "      <th>overall_full_dist</th>\n",
       "      <td>0.313164</td>\n",
       "      <td>2.804953e-67</td>\n",
       "    </tr>\n",
       "    <tr>\n",
       "      <th>velo_mean</th>\n",
       "      <td>0.539729</td>\n",
       "      <td>7.138320e-220</td>\n",
       "    </tr>\n",
       "    <tr>\n",
       "      <th>std_velo</th>\n",
       "      <td>0.529379</td>\n",
       "      <td>4.487821e-210</td>\n",
       "    </tr>\n",
       "    <tr>\n",
       "      <th>max_velo</th>\n",
       "      <td>0.515872</td>\n",
       "      <td>8.679360e-198</td>\n",
       "    </tr>\n",
       "    <tr>\n",
       "      <th>dist_trns_line</th>\n",
       "      <td>-0.072524</td>\n",
       "      <td>8.962916e-05</td>\n",
       "    </tr>\n",
       "    <tr>\n",
       "      <th>in_range</th>\n",
       "      <td>0.475997</td>\n",
       "      <td>1.386604e-164</td>\n",
       "    </tr>\n",
       "    <tr>\n",
       "      <th>closest_motorway_dst</th>\n",
       "      <td>-0.135708</td>\n",
       "      <td>1.922175e-13</td>\n",
       "    </tr>\n",
       "    <tr>\n",
       "      <th>dist_trns_busline</th>\n",
       "      <td>0.075231</td>\n",
       "      <td>4.829664e-05</td>\n",
       "    </tr>\n",
       "    <tr>\n",
       "      <th>train_conf</th>\n",
       "      <td>0.223637</td>\n",
       "      <td>2.491165e-34</td>\n",
       "    </tr>\n",
       "    <tr>\n",
       "      <th>bus_conf</th>\n",
       "      <td>-0.368634</td>\n",
       "      <td>2.040105e-94</td>\n",
       "    </tr>\n",
       "    <tr>\n",
       "      <th>motorway_conf</th>\n",
       "      <td>0.277704</td>\n",
       "      <td>1.026448e-52</td>\n",
       "    </tr>\n",
       "    <tr>\n",
       "      <th>label</th>\n",
       "      <td>1.000000</td>\n",
       "      <td>0.000000e+00</td>\n",
       "    </tr>\n",
       "  </tbody>\n",
       "</table>\n",
       "</div>"
      ],
      "text/plain": [
       "                             0              0\n",
       "total_trip_time       0.085233   4.108662e-06\n",
       "overall_full_dist     0.313164   2.804953e-67\n",
       "velo_mean             0.539729  7.138320e-220\n",
       "std_velo              0.529379  4.487821e-210\n",
       "max_velo              0.515872  8.679360e-198\n",
       "dist_trns_line       -0.072524   8.962916e-05\n",
       "in_range              0.475997  1.386604e-164\n",
       "closest_motorway_dst -0.135708   1.922175e-13\n",
       "dist_trns_busline     0.075231   4.829664e-05\n",
       "train_conf            0.223637   2.491165e-34\n",
       "bus_conf             -0.368634   2.040105e-94\n",
       "motorway_conf         0.277704   1.026448e-52\n",
       "label                 1.000000   0.000000e+00"
      ]
     },
     "execution_count": 120,
     "metadata": {},
     "output_type": "execute_result"
    }
   ],
   "source": [
    "pd.concat([dfcoeff,dfpval], axis=1)"
   ]
  },
  {
   "cell_type": "code",
   "execution_count": 16,
   "metadata": {},
   "outputs": [
    {
     "data": {
      "text/plain": [
       "(0.08523256069006066, 4.10866226894241e-06)"
      ]
     },
     "execution_count": 16,
     "metadata": {},
     "output_type": "execute_result"
    }
   ],
   "source": [
    "#example extracting one correlation coeffcient\n",
    "scipy.stats.pearsonr(x=data['total_trip_time'],y=data['label'])"
   ]
  },
  {
   "cell_type": "markdown",
   "metadata": {},
   "source": [
    "### Notes on regression values and standardising \n",
    "\n",
    "The standard deviation is a measure of the spread/dispersion of a variable. Sixty-eight percent of all observations fall within +/- one standard deviation of the variable mean. Hence a one standard deviation change in the value of the predictor variable represents the same relative amount of change in ranking, regardless of whether the distribution of values is from 1 to 8 (% unemployment) or 4 to 98 (% flats) etc.\n",
    "\n",
    "The main downsides of standardisation are that: (i) the variables being standardised need to be approximately normally distributed to start with, as this assumption underpins the concept of ‘standard deviation’; and (ii) dichotomous (yes/no) predictor variables are clearly not normally distributed, making standardisation inappropriate for evaluating the relative importance of any categorical variable."
   ]
  },
  {
   "cell_type": "code",
   "execution_count": null,
   "metadata": {},
   "outputs": [],
   "source": []
  }
 ],
 "metadata": {
  "kernelspec": {
   "display_name": "Python 3",
   "language": "python",
   "name": "python3"
  },
  "language_info": {
   "codemirror_mode": {
    "name": "ipython",
    "version": 3
   },
   "file_extension": ".py",
   "mimetype": "text/x-python",
   "name": "python",
   "nbconvert_exporter": "python",
   "pygments_lexer": "ipython3",
   "version": "3.7.8"
  }
 },
 "nbformat": 4,
 "nbformat_minor": 4
}
