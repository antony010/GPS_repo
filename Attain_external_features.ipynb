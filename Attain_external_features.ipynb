{
 "cells": [
  {
   "cell_type": "markdown",
   "metadata": {},
   "source": [
    "# Attain Contextual Spatial Data"
   ]
  },
  {
   "cell_type": "code",
   "execution_count": null,
   "metadata": {},
   "outputs": [],
   "source": [
    "#washington\n",
    "osm = pyrosm.OSM(\"pbf_files/washington3.pbf\")\n",
    "#bejing\n",
    "osm = pyrosm.OSM(\"pbf_files/bejing.osm.pbf\")"
   ]
  },
  {
   "cell_type": "code",
   "execution_count": null,
   "metadata": {},
   "outputs": [],
   "source": [
    "#get bounds of pbf file\n",
    "boundaries = osm.get_boundaries()"
   ]
  },
  {
   "cell_type": "markdown",
   "metadata": {},
   "source": [
    "## Get Highways"
   ]
  },
  {
   "cell_type": "code",
   "execution_count": null,
   "metadata": {},
   "outputs": [],
   "source": [
    "# When we want to keep only roads we want to only include data having \"highway\" tag (i.e. a road)\n",
    "# we can pass osm_keys_to_keep: This is a \"first level\" of filtering\n",
    "osm_keys_to_keep = \"highway\"\n",
    "\n",
    "# Second level of filtering is done by passing our custom filter:\n",
    "custom_filter = dict(\n",
    "        # OSM \"highway\" elements that have these tags, cannot be cycled\n",
    "        highway=[ 'motor','motorway', 'motorway_link'],\n",
    "        # If specifically said that cycling is not allowed, exclude such\n",
    "    )\n",
    "\n",
    "# In this case we want to EXCLUDE all the rows that have tags matching the criteria above\n",
    "filter_type = \"keep\"\n",
    "\n",
    "# Run and get all cycling roads\n",
    "motorway = osm.get_data_by_custom_criteria(custom_filter=custom_filter, \n",
    "                                          osm_keys_to_keep=osm_keys_to_keep,\n",
    "                                          filter_type=filter_type)\n",
    "motorway.plot()"
   ]
  },
  {
   "cell_type": "markdown",
   "metadata": {},
   "source": [
    "## Get Train Lines"
   ]
  },
  {
   "cell_type": "code",
   "execution_count": null,
   "metadata": {},
   "outputs": [],
   "source": [
    "#choose filters for train\n",
    "routes = [\"railway\", \"subway\", \"train\", \"tram\"]\n",
    "rails = [\"tramway\", \"light_rail\", \"rail\", \"subway\", \"tram\"]\n",
    "#generate transit_train feature, specifying prior filter lists\n",
    "transit_train = osm.get_data_by_custom_criteria(custom_filter={\n",
    "                                        'route': routes,\n",
    "                                        'railway': rails,\n",
    "                                        'public_transport': True},\n",
    "                                        # Keep data matching the criteria above\n",
    "                                        filter_type=\"keep\",\n",
    "                                       )\n",
    "transit_train.plot()"
   ]
  },
  {
   "cell_type": "markdown",
   "metadata": {},
   "source": [
    "## Get Bus Routes"
   ]
  },
  {
   "cell_type": "code",
   "execution_count": null,
   "metadata": {},
   "outputs": [],
   "source": [
    "#choose filters for train\n",
    "routes = [\"bus\"]\n",
    "bus = ['yes']\n",
    "#generate transit_bus feature, specifying prior filter lists\n",
    "transit_bus = osm.get_data_by_custom_criteria(custom_filter={\n",
    "                                        'route': routes,\n",
    "                                        'bus': bus,\n",
    "                                        'public_transport': True},\n",
    "                                        # Keep data matching the criteria above\n",
    "                                        filter_type=\"keep\",\n",
    "                                       )\n",
    "transit_bus.plot()"
   ]
  },
  {
   "cell_type": "code",
   "execution_count": null,
   "metadata": {},
   "outputs": [],
   "source": [
    "#return only line features by choosing relation\n",
    "transit_relation = transit_bus[transit_bus.osm_type =='relation']"
   ]
  },
  {
   "cell_type": "code",
   "execution_count": null,
   "metadata": {},
   "outputs": [],
   "source": [
    "#return only line features by choosing relation\n",
    "transit_relation = transit_train[transit_train.osm_type =='relation']"
   ]
  },
  {
   "cell_type": "code",
   "execution_count": null,
   "metadata": {},
   "outputs": [],
   "source": [
    "#write out data\n",
    "motorway.to_file('motorway',driver ='ESRI Shapefile')\n",
    "transit_bus.to_file('bus',driver ='ESRI Shapefile')\n",
    "transit_train.to_file('train',driver ='ESRI Shapefile')"
   ]
  },
  {
   "cell_type": "code",
   "execution_count": null,
   "metadata": {},
   "outputs": [],
   "source": [
    "#either retain these as shapefiles or import into a database such as postgres"
   ]
  }
 ],
 "metadata": {
  "kernelspec": {
   "display_name": "Python 3",
   "language": "python",
   "name": "python3"
  },
  "language_info": {
   "codemirror_mode": {
    "name": "ipython",
    "version": 3
   },
   "file_extension": ".py",
   "mimetype": "text/x-python",
   "name": "python",
   "nbconvert_exporter": "python",
   "pygments_lexer": "ipython3",
   "version": "3.7.8"
  }
 },
 "nbformat": 4,
 "nbformat_minor": 4
}
