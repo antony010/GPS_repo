{
 "cells": [
  {
   "cell_type": "markdown",
   "metadata": {},
   "source": [
    "# Mapping Cities as FLows"
   ]
  },
  {
   "cell_type": "markdown",
   "metadata": {},
   "source": [
    "## Open Packages"
   ]
  },
  {
   "cell_type": "code",
   "execution_count": null,
   "metadata": {},
   "outputs": [],
   "source": [
    "from pandas.api.types import CategoricalDtype\n",
    "#for setting timestamp on output data\n",
    "import datetime\n",
    "#for createing and editing tables\n",
    "import pandas as pd\n",
    "#for creating spatial tables\n",
    "import geopandas as gpd\n",
    "#for maths operations\n",
    "import numpy as np\n",
    "#for loading in data from and querying postgres\n",
    "import sqlalchemy as db\n",
    "#for manipulating geometries\n",
    "from shapely.geometry import Point, LineString, box, mapping, Polygon\n",
    "#for the H3 hex grid \n",
    "from h3 import h3\n",
    "#for extracting osm data using a bounding region\n",
    "import pyrosm\n",
    "#for unsupervised learning\n",
    "import scipy.cluster.hierarchy as shc\n",
    "#for map visualisations\n",
    "import matplotlib.pyplot as plt\n",
    "#for faster spatial indexing\n",
    "from sklearn.neighbors import BallTree\n",
    "#for machine learning preperation\n",
    "from sklearn import preprocessing\n",
    "#for importing the random forest\n",
    "import pickle\n",
    "#for loading in data from google cloud\n",
    "from google.cloud import storage\n",
    "import os\n",
    "from math import *"
   ]
  },
  {
   "cell_type": "markdown",
   "metadata": {},
   "source": [
    "## Open Data"
   ]
  },
  {
   "cell_type": "code",
   "execution_count": null,
   "metadata": {},
   "outputs": [],
   "source": [
    "# Create a database connection\n",
    "# Create a database connection\n"
   ]
  },
  {
   "cell_type": "code",
   "execution_count": null,
   "metadata": {},
   "outputs": [],
   "source": [
    "pd.set_option('display.max_columns', None)"
   ]
  },
  {
   "cell_type": "code",
   "execution_count": null,
   "metadata": {},
   "outputs": [],
   "source": [
    "# GC credentials\n",
    "data = pd.read_pickle('geolife.pkl')  # reads 'geolife.pkl' into df"
   ]
  },
  {
   "cell_type": "code",
   "execution_count": null,
   "metadata": {},
   "outputs": [],
   "source": [
    "#specifiy csv files to load into the process\n",
    "filter_required = (data['label']== 6) | (data['label']== 5) | (data['label']== 4) | (data['label']== 1) | (data['label']== 3)\n",
    "data = data[filter_required]"
   ]
  },
  {
   "cell_type": "code",
   "execution_count": null,
   "metadata": {},
   "outputs": [],
   "source": [
    "data = data.reset_index()\n",
    "data.rename(columns={'index':'identifier','user':'uid', 'lon':'longitude', 'lat':'latitude','time':'timestamp'},inplace=True)"
   ]
  },
  {
   "cell_type": "code",
   "execution_count": null,
   "metadata": {},
   "outputs": [],
   "source": [
    "data = gpd.GeoDataFrame(\n",
    "    data, geometry=gpd.points_from_xy(data.longitude, data.latitude))"
   ]
  },
  {
   "cell_type": "code",
   "execution_count": null,
   "metadata": {},
   "outputs": [],
   "source": [
    "#hex_grid at zoom level 6 - for precalculated process\n",
    "# Read PostGIS database with Geopandas\n",
    "sql = 'SELECT * FROM public.hex_grid7;'\n",
    "hex_grid = gpd.read_postgis(sql=sql, con=con)\n",
    "hex_grid = hex_grid.rename(columns={'index':'hex_id'})\n",
    "\n",
    "# Read PostGIS database with Geopandas - for precalcualted process\n",
    "sql = 'SELECT * FROM public.hex_grid6;'\n",
    "hex_grid6 = gpd.read_postgis(sql=sql, con=con)\n",
    "hex_grid6 = hex_grid6.rename(columns={'index':'hex_id'})\n",
    "# Read PostGIS database for tranist ways\n",
    "sql = 'SELECT * from transit_way_bejing;'\n",
    "transit_way = gpd.read_postgis(sql=sql, con=con)\n",
    "\n",
    "# Read PostGIS database for transit relation\n",
    "sql = 'SELECT * FROM public.transit_relation_bejing;'\n",
    "transit_relation = gpd.read_postgis(sql=sql, con=con)\n",
    "train_relation = transit_relation[transit_relation['route']=='train']\n",
    "subway_relation = transit_relation[transit_relation['route']=='subway']\n",
    "rail_relation = transit_relation[transit_relation['route']=='railway']\n",
    "rail_relation = gpd.GeoDataFrame(rail_relation, crs='epsg:4326')\n",
    "subway_relation = gpd.GeoDataFrame(subway_relation, crs='epsg:4326')\n",
    "train_relation = gpd.GeoDataFrame(train_relation, crs='epsg:4326')\n",
    "rail_relation['transport_lin'] = 'rail_line'\n",
    "subway_relation['transport_lin'] = 'rail_line'\n",
    "train_relation['transport_lin'] = 'rail_line'\n",
    "\n",
    "# Read PostGIS database with bus routes\n",
    "metro_bus_lines = transit_relation[transit_relation['route']=='bus']\n",
    "\n",
    "metro_bus_relation = transit_relation[transit_relation['route']=='bus']\n",
    "metro_bus_relation['transport_lin'] = 'bus_line'\n",
    "\n",
    "# Read PostGIS database with motorway features\n",
    "sql = 'SELECT * FROM public.motorway_beijing;'\n",
    "transit_motorway_line = gpd.read_postgis(sql=sql, con=con)\n",
    "# Read PostGIS database with Geopandas\n",
    "sql = 'SELECT * FROM public.regional_bus_lines;'\n",
    "regional_bus_lines = gpd.read_postgis(sql=sql, con=con)\n",
    "regional_bus_relation = gpd.read_postgis(sql=sql, con=con)"
   ]
  },
  {
   "cell_type": "markdown",
   "metadata": {},
   "source": [
    "## Define key functions"
   ]
  },
  {
   "cell_type": "code",
   "execution_count": null,
   "metadata": {},
   "outputs": [],
   "source": [
    "#set the geometry build a spatial dataframe\n",
    "data = gpd.GeoDataFrame(\n",
    "    data, geometry=gpd.points_from_xy(data.longitude, data.latitude))\n",
    "#generate a seperate lat and long\n",
    "#data['device_lon'] = data.geometry.apply(lambda p: p.x)\n",
    "#data['device_lat'] = data.geometry.apply(lambda p: p.y)"
   ]
  },
  {
   "cell_type": "code",
   "execution_count": null,
   "metadata": {},
   "outputs": [],
   "source": [
    "#function to get distance between the GPS points\n",
    "def get_distance(lat, lng, lat_prev, lon_prev):\n",
    "    # Transform to radians\n",
    "    lng, lat, lon_prev, lat_prev = map(radians, [lng,  lat, lon_prev, lat_prev])\n",
    "    dist_longit = lon_prev - lng\n",
    "    dist_latit = lat_prev - lat\n",
    "    # Calculate area\n",
    "    area = sin(dist_latit/2)**2 + cos(lat) * cos(lat_prev) * sin(dist_longit/2)**2\n",
    "    # Calculate the central angle\n",
    "    central_angle = 2 * asin(sqrt(area))\n",
    "    radius = 3956 # Use 6371 for km\n",
    "    # Calculate Distance\n",
    "    distance = central_angle * radius\n",
    "    return abs(round(distance, 2))"
   ]
  },
  {
   "cell_type": "code",
   "execution_count": null,
   "metadata": {},
   "outputs": [],
   "source": [
    "def get_nearest(src_points, candidates, k_neighbors=1):\n",
    "    \"\"\"Find nearest neighbors for all source points from a set of candidate points\"\"\"\n",
    "\n",
    "    # Create tree from the candidate points\n",
    "    tree = BallTree(candidates, leaf_size=15, metric='haversine')\n",
    "\n",
    "    # Find closest points and distances\n",
    "    distances, indices = tree.query(src_points, k=k_neighbors)\n",
    "\n",
    "    # Transpose to get distances and indices into arrays\n",
    "    distances = distances.transpose()\n",
    "    indices = indices.transpose()\n",
    "\n",
    "    # Get closest indices and distances (i.e. array at index 0)\n",
    "    # note: for the second closest points, you would take index 1, etc.\n",
    "    closest = indices[0]\n",
    "    closest_dist = distances[0]\n",
    "\n",
    "    # Return indices and distances\n",
    "    return (closest, closest_dist)\n",
    "\n",
    "\n",
    "def nearest_neighbor(left_gdf, right_gdf, return_dist=False):\n",
    "    \"\"\"\n",
    "    For each point in left_gdf, find closest point in right GeoDataFrame and return them.\n",
    "    \n",
    "    NOTICE: Assumes that the input Points are in WGS84 projection (lat/lon).\n",
    "    \"\"\"\n",
    "    \n",
    "    left_geom_col = left_gdf.geometry.name\n",
    "    right_geom_col = right_gdf.geometry.name\n",
    "    \n",
    "    # Ensure that index in right gdf is formed of sequential numbers\n",
    "    right = right_gdf.copy().reset_index(drop=True)\n",
    "    \n",
    "    # Parse coordinates from points and insert them into a numpy array as RADIANS\n",
    "    # Notice: should be in Lat/Lon format \n",
    "    left_radians = np.array(left_gdf[left_geom_col].apply(lambda geom: (geom.y * np.pi / 180, geom.x * np.pi / 180)).to_list())\n",
    "    right_radians = np.array(right[right_geom_col].apply(lambda geom: (geom.y * np.pi / 180, geom.x * np.pi / 180)).to_list())\n",
    "    \n",
    "    # Find the nearest points\n",
    "    # -----------------------\n",
    "    # closest ==> index in right_gdf that corresponds to the closest point\n",
    "    # dist ==> distance between the nearest neighbors (in meters)\n",
    "    \n",
    "    closest, dist = get_nearest(src_points=left_radians, candidates=right_radians)\n",
    "\n",
    "    # Return points from right GeoDataFrame that are closest to points in left GeoDataFrame\n",
    "    closest_points = right.loc[closest]\n",
    "    \n",
    "    # Ensure that the index corresponds the one in left_gdf\n",
    "    closest_points = closest_points.reset_index(drop=True)\n",
    "    \n",
    "    # Add distance if requested \n",
    "    if return_dist:\n",
    "        # Convert to meters from radians\n",
    "        earth_radius = 6371000  # meters\n",
    "        closest_points['distance'] = dist * earth_radius\n",
    "        \n",
    "    return closest_points"
   ]
  },
  {
   "cell_type": "code",
   "execution_count": null,
   "metadata": {},
   "outputs": [],
   "source": [
    "# This functions returns a gridded bounding box (as a GeoDataFrame) using h3 or quadkeys\n",
    "def load_grid(grid_type, zoom, bbox):\n",
    "    list_hexagons = []\n",
    "    list_hex_id = []\n",
    "    if str.lower(grid_type) == 'h3' or str.lower(grid_type) == 'any':\n",
    "        list_hex_id = list(h3.polyfill(geojson = mapping(bbox), res = zoom, geo_json_conformant=True))\n",
    "        list_hexagons = list(map(lambda x : Polygon(h3.h3_to_geo_boundary(h=x, geo_json=True)), list_hex_id))\n",
    "    elif str.lower(grid_type) == 'qk':\n",
    "        bounds = bbox.bounds\n",
    "        list_hex_id = list(map(mercantile.quadkey, \n",
    "                               mercantile.tiles(bounds[0], bounds[1], bounds[2], bounds[3], zooms=zoom)))\n",
    "        list_hexagons = list(map(lambda x:box(*mercantile.bounds(x)),\n",
    "                                 mercantile.tiles(bounds[0], bounds[1], bounds[2], bounds[3], zooms=zoom)))\n",
    "    \n",
    "    grid = pd.DataFrame({'hex_id': list_hex_id, 'geometry':list_hexagons})\n",
    "    grid = gpd.GeoDataFrame(grid, crs='epsg:4326')\n",
    "    return grid"
   ]
  },
  {
   "cell_type": "code",
   "execution_count": null,
   "metadata": {},
   "outputs": [],
   "source": [
    "def f_line(row):\n",
    "    \"\"\"\n",
    "    This function takes all OSM rail features and and labels them as a 'train_line'.\n",
    "    \n",
    "    \"\"\"\n",
    "    if row['route']=='subway':\n",
    "        val = 'train_line'\n",
    "    elif row['route']=='railway':\n",
    "        val = 'train_line'\n",
    "    elif row['route']=='train':\n",
    "        val = 'train_line'\n",
    "    elif row['railway']=='rail':\n",
    "        val = 'train_line'\n",
    "    else:\n",
    "        val = None\n",
    "    return val"
   ]
  },
  {
   "cell_type": "code",
   "execution_count": null,
   "metadata": {},
   "outputs": [],
   "source": [
    "#break out multipart string\n",
    "def multi2single(gpdf):\n",
    "    gpdf_singleline = gpdf[gpdf.geometry.type == 'LineString']\n",
    "    gpdf_multiline = gpdf[gpdf.geometry.type == 'MultiLineString']\n",
    "\n",
    "    for i, row in gpdf_multiline.iterrows():\n",
    "        Series_geometries = pd.Series(row.geometry)\n",
    "        df = pd.concat([gpd.GeoDataFrame(row, crs=gpdf_multiline.crs).T]*len(Series_geometries), ignore_index=True)\n",
    "        df['geometry']  = Series_geometries\n",
    "        gpdf_singleline = pd.concat([gpdf_singleline, df])\n",
    "\n",
    "    gpdf_singleline.reset_index(inplace=True, drop=True)\n",
    "    return gpdf_singleline"
   ]
  },
  {
   "cell_type": "code",
   "execution_count": null,
   "metadata": {},
   "outputs": [],
   "source": [
    "#this function densifys the line feature creating many vertices at the step size of choice\n",
    "def densify_geometry (line_geometry, step, crs=None):\n",
    "        \n",
    "        #crs: epsg code of a coordinate reference system you want your line to be georeferenced with\n",
    "        # step: add a vertice every step in whatever unit your coordinate reference system use.\n",
    "    \n",
    "        length_m=line_geometry.length # get the length\n",
    "    \n",
    "        xy=[] # to store new tuples of coordinates\n",
    "    \n",
    "        for distance_along_old_line in np.arange(0,(length_m),step): \n",
    "    \n",
    "            point = line_geometry.interpolate(distance_along_old_line) # interpolate a point every step along the old line\n",
    "            xp,yp = point.x, point.y # extract the coordinates\n",
    "    \n",
    "            xy.append((xp,yp)) # and store them in xy list\n",
    "    \n",
    "        new_line=LineString(xy) # Here, we finally create a new line with densified points.\n",
    "        \n",
    "        if crs != None:  #  If you want to georeference your new geometry, uses crs to do the job.\n",
    "            new_line_geo=gpd.geoseries.GeoSeries(new_line,crs=crs) \n",
    "            return new_line_geo\n",
    "    \n",
    "        else:\n",
    "            return new_line"
   ]
  },
  {
   "cell_type": "code",
   "execution_count": null,
   "metadata": {},
   "outputs": [],
   "source": []
  },
  {
   "cell_type": "markdown",
   "metadata": {},
   "source": [
    "## Append additional variables to original data feature"
   ]
  },
  {
   "cell_type": "code",
   "execution_count": 16,
   "metadata": {},
   "outputs": [],
   "source": [
    "#removes error on copy of a slice\n",
    "data['accuracy'] = 4\n",
    "data = data.copy()\n",
    "#rename the attribution\n",
    "#data.rename(columns={'identifier':'uid', 'source_id': 'aid','device_lon':'longitude', 'device_lat':'latitude','device_horizontal_accuracy':'accuracy', 'province_short':'state', 'time_zone_name':'time_zone'},inplace=True)\n",
    "#edit the feature types of those that are incorrectly strings\n",
    "data['longitude'] = data['longitude'].astype(float)\n",
    "data['latitude'] = data['latitude'].astype(float)\n",
    "data['accuracy'] = data['accuracy'].astype(float)\n",
    "# Calculate the corresponding h3id and the geometry associated to it (changed to 9 to evaluate difference)\n",
    "data['hex_id'] = list(map(lambda p : h3.geo_to_h3(p[1], p[0], resolution=8), data[['longitude', 'latitude']].values))\n",
    "data['hex_geom'] = list(map(lambda x : Polygon(h3.h3_to_geo_boundary(h=x, geo_json=True)), data['hex_id'].tolist()))"
   ]
  },
  {
   "cell_type": "code",
   "execution_count": 17,
   "metadata": {},
   "outputs": [],
   "source": [
    "#removes error on copy of a slice\n",
    "data_grouped = data.copy()\n",
    "#group data by the uidand count the number of hex polygons at zoom level 8 it intersects\n",
    "data_grouped = data_grouped.groupby('uid').agg({'hex_id':'nunique'}).reset_index()"
   ]
  },
  {
   "cell_type": "code",
   "execution_count": 18,
   "metadata": {},
   "outputs": [],
   "source": [
    "#more than 4 hex grids must be traversed - removes stationary devices\n",
    "more_than_4 = data_grouped[data_grouped['hex_id']>=4]\n",
    "#rename hex feature\n",
    "more_than_4 = more_than_4.rename(columns={'hex_id':'hex_id_n'})\n",
    "#reindex\n",
    "more_than_4 = more_than_4.reset_index(drop=True)"
   ]
  },
  {
   "cell_type": "code",
   "execution_count": 19,
   "metadata": {},
   "outputs": [],
   "source": [
    "#edit the datatypes\n",
    "data['uid'] = data['uid'].astype(str)\n",
    "more_than_4['uid'] = more_than_4['uid'].astype(str)\n",
    "more_than_4['hex_id_n'] = more_than_4['hex_id_n'].astype(str)"
   ]
  },
  {
   "cell_type": "code",
   "execution_count": 20,
   "metadata": {},
   "outputs": [],
   "source": [
    "#dat ais only retained when it has more than for hex ids\n",
    "data = more_than_4.set_index('uid').join(data.set_index('uid'), how='inner', rsuffix='_other')\n",
    "# Filter pings based on accuracy\n",
    "data = data[data['accuracy']<50] \n",
    "#set the time to be America/Neyyork \n",
    "data['datetime'] = data.apply(lambda row: pd.Timestamp(row['timestamp'], tz='America/New_York'), axis = 1)\n",
    "#set the datetime\n",
    "data['timestamp'] = data.apply(lambda row: pd.to_datetime(row['timestamp'], origin='unix'), axis = 1)\n",
    "data = data.reset_index()\n",
    "#remove any duplicate values\n",
    "data = data.drop_duplicates(subset=['uid', 'longitude', 'latitude', 'timestamp', 'accuracy'])\n",
    "#remove any null values\n",
    "data = data.dropna(subset=['uid', 'longitude', 'latitude', 'timestamp', 'accuracy'])\n",
    "#return the hour\n",
    "data['hour'] = data['datetime'].dt.hour\n",
    "#return the day of the week\n",
    "data['dayofweek'] = data['datetime'].dt.dayofweek\n",
    "#return the day of the year\n",
    "data['dayofyear'] = data['datetime'].dt.dayofyear\n",
    "#return the order of the event poitns\n",
    "data['rank'] = data.groupby('uid')['timestamp'].rank(ascending=True).astype(int)"
   ]
  },
  {
   "cell_type": "markdown",
   "metadata": {},
   "source": [
    "## Generalsise data"
   ]
  },
  {
   "cell_type": "code",
   "execution_count": 21,
   "metadata": {},
   "outputs": [],
   "source": [
    "#generalise the datat to be one point every 4 mins\n",
    "data['minute'] = data['timestamp'].dt.minute\n",
    "\n",
    "data.loc[(data['minute'] <= 4), 'period'] = 0\n",
    "data.loc[(data['minute'] > 4) & (data['minute'] < 8), 'period'] = 4\n",
    "data.loc[(data['minute'] >= 8) & (data['minute'] < 12), 'period'] = 8\n",
    "data.loc[(data['minute'] >= 12) & (data['minute'] < 16), 'period'] = 12\n",
    "data.loc[(data['minute'] >= 16) & (data['minute'] < 20), 'period'] = 16\n",
    "data.loc[(data['minute'] >= 20) & (data['minute'] < 24), 'period'] = 20\n",
    "data.loc[(data['minute'] >= 24) & (data['minute'] < 28), 'period'] = 24\n",
    "data.loc[(data['minute'] >= 28) & (data['minute'] < 32), 'period'] = 28\n",
    "data.loc[(data['minute'] >= 32) & (data['minute'] < 36), 'period'] = 32\n",
    "data.loc[(data['minute'] >= 36) & (data['minute'] < 40), 'period'] = 36\n",
    "data.loc[(data['minute'] >= 40) & (data['minute'] < 44), 'period'] = 40\n",
    "data.loc[(data['minute'] >= 44) & (data['minute'] < 48), 'period'] = 44\n",
    "data.loc[(data['minute'] >= 48) & (data['minute'] < 52), 'period'] = 48\n",
    "data.loc[(data['minute'] >= 52) & (data['minute'] < 56), 'period'] = 52\n",
    "data.loc[(data['minute'] >= 56) & (data['minute'] <= 60), 'period'] = 56\n",
    "\n",
    "data['period'] = data['period'].astype(int)\n",
    "data['time_group'] =  (data['dayofyear'].astype(str))+(data['hour'].astype(str))+(data['period'].astype(str))\n",
    "data['time_group'] = data['time_group'].astype(int)\n",
    "\n",
    "data = data.groupby(['uid','time_group']).agg({'hex_id_n':'first','uid':'first', 'identifier':'first', 'timestamp':'first', 'latitude':'first', 'longitude':'first', 'alt':'first', 'label':'first', 'geometry':'first', 'hex_id':'first', 'hex_geom':'first', 'accuracy':'first','minute':'first','period':'first','hour':'first','time_group':'first','dayofyear':'first', 'dayofweek':'first'})\n",
    "#'time_calc':'first','full_dist':'first'\n",
    "#'total_trip_time':'first','overall_full_dist':'first','count_pts':'count', "
   ]
  },
  {
   "cell_type": "code",
   "execution_count": 22,
   "metadata": {},
   "outputs": [],
   "source": [
    "data = data.reset_index(drop=True)"
   ]
  },
  {
   "cell_type": "code",
   "execution_count": 23,
   "metadata": {},
   "outputs": [],
   "source": [
    "data['rank'] = data.groupby('uid')['timestamp'].rank(ascending=True).astype(int)"
   ]
  },
  {
   "cell_type": "markdown",
   "metadata": {},
   "source": [
    "## Calculate variables from the previous point feature"
   ]
  },
  {
   "cell_type": "code",
   "execution_count": 24,
   "metadata": {},
   "outputs": [],
   "source": [
    "#sort the values by their rank and within each unique user\n",
    "data = data.sort_values([\"uid\", \"rank\"], ascending = (False, True))\n",
    "#attain the longitude of the preious\n",
    "data['latitude_prev'] = data.groupby(['uid'])['latitude'].shift(1)\n",
    "#attain the latiudue of the previous\n",
    "data['longitude_prev'] = data.groupby(['uid'])['longitude'].shift(1)\n",
    "#attain the timestamp of the previous\n",
    "data['timestamp_prev'] = data.groupby(['uid'])['timestamp'].shift(1)"
   ]
  },
  {
   "cell_type": "code",
   "execution_count": 25,
   "metadata": {},
   "outputs": [],
   "source": [
    "#set the timestamp of the previous to be unix datetime\n",
    "data['timestamp_prev'] = data.apply(lambda row: pd.to_datetime(row['timestamp_prev'], origin='unix'), axis = 1)\n",
    "#calulate the distance between the current and previous GPS point\n",
    "data['great_circle'] = data.apply(lambda row: get_distance(row['latitude'], row['longitude'], row['latitude_prev'], row['longitude_prev']), axis = 1)\n",
    "#get the second difference between the current and previous point\n",
    "data['sec_diff'] = data['timestamp'] - data['timestamp_prev']\n",
    "#set these to be seconds\n",
    "data['sec_diff'] = data['sec_diff'] / np.timedelta64(1, 's')"
   ]
  },
  {
   "cell_type": "code",
   "execution_count": 26,
   "metadata": {},
   "outputs": [],
   "source": [
    "#set all the null values from this to be zero\n",
    "data[['sec_diff']] = data[['sec_diff']].fillna(value=0)\n",
    "#speed calc\n",
    "data['velo'] = data['great_circle']/data['sec_diff']\n",
    "#fill the null values as zero\n",
    "data[['velo']] = data[['velo']].fillna(value=0)\n",
    "#reset index\n",
    "data = data.reset_index(drop=True)\n",
    "#velo times 60 to get mph\n",
    "data['velo'] = (data['velo']*60)*60"
   ]
  },
  {
   "cell_type": "markdown",
   "metadata": {},
   "source": [
    "## Identify trips"
   ]
  },
  {
   "cell_type": "code",
   "execution_count": 27,
   "metadata": {},
   "outputs": [],
   "source": [
    "#define a trend like to find consectuve hex ids\n",
    "data['trend'] = data.uid.groupby(data.hex_id.ne(data.hex_id.shift()).cumsum()).cumcount()\n",
    "#grouped = data.groupby('uid')\n",
    "data[\"tripID\"] = \"\"\n",
    "data = data.reset_index(drop=True)"
   ]
  },
  {
   "cell_type": "code",
   "execution_count": 28,
   "metadata": {},
   "outputs": [
    {
     "name": "stdout",
     "output_type": "stream",
     "text": [
      "Elapsed time: 0.010991096496582031\n"
     ]
    }
   ],
   "source": [
    "#define a vectorised condition that breaks the sequence into a trip when the velcity is greater than 75mph, there are more than 3 GPS points in the same zoom level 8 hex\n",
    "import time\n",
    "start = time.time()\n",
    "\n",
    "data['condition'] = (data['sec_diff']> 400) | (data['trend']>=3)| (data['velo']>75)\n",
    "\n",
    "data['tripID'] = data.groupby('uid')['condition'].cumsum()\n",
    "\n",
    "data['tripID'] += 1\n",
    "\n",
    "print('Elapsed time:', time.time()- start)"
   ]
  },
  {
   "cell_type": "code",
   "execution_count": 29,
   "metadata": {},
   "outputs": [],
   "source": [
    "data = data.copy()"
   ]
  },
  {
   "cell_type": "code",
   "execution_count": 30,
   "metadata": {},
   "outputs": [],
   "source": [
    "#as the current trip ids are a series of numbers append the trip id to the user id to establish the trip number\n",
    "data['tripID'] = data['tripID'].astype(int)\n",
    "data['U_trip_ID'] = data[\"uid\"].astype(str) +'-'+ data[\"tripID\"].astype(str)\n",
    "#establish the number of unique trip ids\n",
    "counts = data['U_trip_ID'].value_counts()\n",
    "#only bring through when there is at least more than 3 vertices on a trip\n",
    "data = data[data['U_trip_ID'].isin(counts.index[counts >= 3])]\n",
    "#establish new features (duplicates) to be edited whilst retaining the original\n",
    "data['time_calc'] = data['sec_diff']\n",
    "data['full_dist'] = data['great_circle']"
   ]
  },
  {
   "cell_type": "code",
   "execution_count": 31,
   "metadata": {},
   "outputs": [],
   "source": [
    "#the first value in the trip must have a value of 0 for the distance and the time value \n",
    "data.loc[data.groupby('U_trip_ID')['sec_diff'].head(1).index, 'time_calc'] = 0\n",
    "data.loc[data.groupby('U_trip_ID')['great_circle'].head(1).index, 'full_dist'] = 0\n",
    "#create a lookup table groupby the unque trip ids and gain the full trip duration and distane and count of vertices\n",
    "lookup = data.groupby(['U_trip_ID']).agg({'time_calc' : 'sum', 'full_dist': 'sum', 'U_trip_ID' : 'count'})\n",
    "#rename the lookup table attributes\n",
    "lookup = lookup.rename(columns={'U_trip_ID':'count_pts', 'time_calc':'total_trip_time', 'full_dist':'overall_full_dist'})"
   ]
  },
  {
   "cell_type": "code",
   "execution_count": 32,
   "metadata": {},
   "outputs": [],
   "source": [
    "#for each of the individual point features append the details of the full trip\n",
    "data = pd.merge(data, lookup, left_on = 'U_trip_ID', right_index=True, how = 'left')\n",
    "#make data a geodataframe once more\n",
    "data = gpd.GeoDataFrame(\n",
    "    data, geometry=gpd.points_from_xy(data.longitude, data.latitude))"
   ]
  },
  {
   "cell_type": "code",
   "execution_count": 33,
   "metadata": {},
   "outputs": [],
   "source": [
    "#create line features from the trip IDs appending values to a list\n",
    "trip_line = data.groupby(['U_trip_ID'])['geometry'].apply(lambda x: LineString(x.tolist()))\n",
    "#make the line feature a geometry\n",
    "trip_line = gpd.GeoDataFrame(trip_line, geometry='geometry')\n",
    "trip_line = trip_line.reset_index()\n",
    "#make time an integer\n",
    "data['time_calc'] = data['time_calc'].astype(int)"
   ]
  },
  {
   "cell_type": "code",
   "execution_count": 34,
   "metadata": {},
   "outputs": [
    {
     "data": {
      "text/plain": [
       "'2007-04-14 to 2011-12-31'"
      ]
     },
     "execution_count": 34,
     "metadata": {},
     "output_type": "execute_result"
    }
   ],
   "source": [
    "date_range = str(data['timestamp'].dt.date.min()) + ' to ' +str(data['timestamp'].dt.date.max())\n",
    "date_range"
   ]
  },
  {
   "cell_type": "code",
   "execution_count": 35,
   "metadata": {},
   "outputs": [],
   "source": [
    "data['rank'] = data.groupby('uid')['timestamp'].rank(ascending=True).astype(int)\n",
    "data= data.sort_values([\"uid\", \"rank\"], ascending = (False, True))"
   ]
  },
  {
   "cell_type": "code",
   "execution_count": 36,
   "metadata": {},
   "outputs": [
    {
     "data": {
      "text/plain": [
       "[]"
      ]
     },
     "execution_count": 36,
     "metadata": {},
     "output_type": "execute_result"
    },
    {
     "data": {
      "image/png": "[encoded data removed]",
      "text/plain": [
       "<Figure size 432x288 with 1 Axes>"
      ]
     },
     "metadata": {
      "needs_background": "light"
     },
     "output_type": "display_data"
    }
   ],
   "source": [
    "import seaborn as sns\n",
    "#distribution of mean vote\n",
    "g = sns.distplot(((data[data['time_calc']>0]['time_calc'])/60),\n",
    "             #specify histgram\n",
    "             hist=True,\n",
    "             #not kde plot\n",
    "             kde=False,\n",
    "             #do not add rug plot\n",
    "             rug=False,\n",
    "             #select 80 bins\n",
    "             bins=20,\n",
    "                 hist_kws=dict(edgecolor=\"k\", linewidth=2),\n",
    "             #select axes\n",
    "             #ax=axs[0,1]\n",
    "             color='green')\n",
    "g.set(xlim=(0, 10), ylim=(0, None), xlabel='Seconds', ylabel='Frequency')\n",
    "g.set_title('Training Data New Sampling Rate')\n",
    "#g.figure.savefig(\"output_sampling_geolife.png\")\n",
    "g.plot()\n"
   ]
  },
  {
   "cell_type": "markdown",
   "metadata": {},
   "source": [
    "## Spatial feature Context "
   ]
  },
  {
   "cell_type": "markdown",
   "metadata": {},
   "source": [
    "### motorway"
   ]
  },
  {
   "cell_type": "code",
   "execution_count": 37,
   "metadata": {},
   "outputs": [
    {
     "name": "stderr",
     "output_type": "stream",
     "text": [
      "C:\\Users\\ant-r\\Miniconda3\\envs\\gds\\lib\\site-packages\\ipykernel_launcher.py:1: FutureWarning: Assigning CRS to a GeoDataFrame without a geometry column is now deprecated and will not be supported in the future.\n",
      "  \"\"\"Entry point for launching an IPython kernel.\n",
      "C:\\Users\\ant-r\\Miniconda3\\envs\\gds\\lib\\site-packages\\ipykernel_launcher.py:4: FutureWarning: Assigning CRS to a GeoDataFrame without a geometry column is now deprecated and will not be supported in the future.\n",
      "  after removing the cwd from sys.path.\n"
     ]
    }
   ],
   "source": [
    "transit_motorway_line = gpd.GeoDataFrame(transit_motorway_line, crs='epsg:4326')\n",
    "#transit_motorway_line['transport_poi'] = 'motorway'\n",
    "transit_motorway_line['transport_lin'] = 'motorway_line'\n",
    "transit_motorway_line = gpd.GeoDataFrame(transit_motorway_line, crs='epsg:4326')"
   ]
  },
  {
   "cell_type": "markdown",
   "metadata": {},
   "source": [
    "### Railway"
   ]
  },
  {
   "cell_type": "code",
   "execution_count": 38,
   "metadata": {},
   "outputs": [
    {
     "name": "stderr",
     "output_type": "stream",
     "text": [
      "C:\\Users\\ant-r\\Miniconda3\\envs\\gds\\lib\\site-packages\\ipykernel_launcher.py:8: FutureWarning: Assigning CRS to a GeoDataFrame without a geometry column is now deprecated and will not be supported in the future.\n",
      "  \n",
      "C:\\Users\\ant-r\\Miniconda3\\envs\\gds\\lib\\site-packages\\ipykernel_launcher.py:23: UserWarning: Geometry is in a geographic CRS. Results from 'length' are likely incorrect. Use 'GeoSeries.to_crs()' to re-project geometries to a projected CRS before this operation.\n",
      "\n"
     ]
    }
   ],
   "source": [
    "#set the rail features to be trains\n",
    "transit_relation['trns_type'] = transit_relation.apply(f_line, axis=1)\n",
    "#filter only required columns\n",
    "transit_relation = transit_relation[['id','trns_type','geom']]\n",
    "#esnure all are trains\n",
    "transit_relation = transit_relation[transit_relation['trns_type']=='train_line']\n",
    "#label way features as train lines\n",
    "transit_way['trns_type'] = transit_way.apply(f_line, axis=1)\n",
    "#filter only required columns\n",
    "transit_way = transit_way[['id','trns_type','geom']]\n",
    "#ensure all ways are trains\n",
    "transit_way = transit_way[transit_way['trns_type']=='train_line']\n",
    "#join the ways to the realtions to get completed train route\n",
    "transit_relation = transit_relation.append(transit_way)\n",
    "#rename geometry\n",
    "transit_relation = transit_relation.rename(columns={'geom': 'geometry'})\n",
    "#set as a geodataframe\n",
    "transit_relation = gpd.GeoDataFrame(transit_relation, crs='epsg:4326')\n",
    "#make all multpart features singlepart\n",
    "transit_relation = multi2single(transit_relation)\n",
    "#transit_relation = transit_relation[transit_relation['trns_type'] == 'train_line']\n",
    "#remove short sections of the train line\n",
    "transit_relation = transit_relation[transit_relation.geometry.length > 0.0001]\n",
    "#densify the railway line geometry for distance calcs\n",
    "transit_relation['geometry'] = transit_relation.geometry.apply(densify_geometry, step=0.0001, crs = None)\n",
    "#transport line into a list of points\n",
    "transit_relation['point_list'] = transit_relation['geometry'].apply(lambda geom : list(geom.coords))\n",
    "# Need to cast to DataFrame because the explode method for a GeoDataFrame means something different\n",
    "#explode the points list into a record for each point\n",
    "transit_relation = pd.DataFrame(transit_relation).explode('point_list')\n",
    "# Transform lat/lon tuple into Point geometry\n",
    "transit_relation['point_list'] = transit_relation['point_list'].apply(lambda coor : Point(*coor))\n",
    "# Need to turn it into a GeoDataFrame again\n",
    "transit_relation = gpd.GeoDataFrame(transit_relation, crs='epsg:4326')\n",
    "#reset the geoemtry to be the new point\n",
    "transit_relation = transit_relation.set_geometry('point_list')"
   ]
  },
  {
   "cell_type": "markdown",
   "metadata": {},
   "source": [
    "### Bus routes"
   ]
  },
  {
   "cell_type": "code",
   "execution_count": 39,
   "metadata": {},
   "outputs": [
    {
     "name": "stderr",
     "output_type": "stream",
     "text": [
      "C:\\Users\\ant-r\\Miniconda3\\envs\\gds\\lib\\site-packages\\ipykernel_launcher.py:8: FutureWarning: Assigning CRS to a GeoDataFrame without a geometry column is now deprecated and will not be supported in the future.\n",
      "  \n",
      "C:\\Users\\ant-r\\Miniconda3\\envs\\gds\\lib\\site-packages\\ipykernel_launcher.py:12: UserWarning: Geometry is in a geographic CRS. Results from 'length' are likely incorrect. Use 'GeoSeries.to_crs()' to re-project geometries to a projected CRS before this operation.\n",
      "\n",
      "  if sys.path[0] == '':\n"
     ]
    }
   ],
   "source": [
    "#create a string for each bus feature to label on intersection\n",
    "regional_bus_lines['trns_type'] = 'bus_line'\n",
    "#filter only sttributes required\n",
    "regional_bus_lines = regional_bus_lines[['id','trns_type','geom']]\n",
    "#rename the geometry\n",
    "regional_bus_lines = regional_bus_lines.rename(columns={'geom': 'geometry'})\n",
    "#make bus lines a geodataframe\n",
    "regional_bus_lines = gpd.GeoDataFrame(regional_bus_lines, crs='epsg:4326')\n",
    "#make these single part features\n",
    "regional_bus_lines = multi2single(regional_bus_lines)\n",
    "#densify the bus route line features\n",
    "regional_bus_lines = regional_bus_lines[regional_bus_lines.geometry.length > 0.0001]"
   ]
  },
  {
   "cell_type": "code",
   "execution_count": 40,
   "metadata": {},
   "outputs": [
    {
     "name": "stderr",
     "output_type": "stream",
     "text": [
      "C:\\Users\\ant-r\\Miniconda3\\envs\\gds\\lib\\site-packages\\ipykernel_launcher.py:8: FutureWarning: Assigning CRS to a GeoDataFrame without a geometry column is now deprecated and will not be supported in the future.\n",
      "  \n",
      "C:\\Users\\ant-r\\Miniconda3\\envs\\gds\\lib\\site-packages\\ipykernel_launcher.py:14: UserWarning: Geometry is in a geographic CRS. Results from 'length' are likely incorrect. Use 'GeoSeries.to_crs()' to re-project geometries to a projected CRS before this operation.\n",
      "\n",
      "  \n"
     ]
    }
   ],
   "source": [
    "#create string for each inner city bus line\n",
    "metro_bus_lines['trns_type'] = 'bus_line'\n",
    "#alter the name of the unique identfier\n",
    "metro_bus_lines = metro_bus_lines.rename(columns={'objectid': 'id'})\n",
    "#filter to only keep variables required\n",
    "metro_bus_lines = metro_bus_lines[['id','trns_type','geom']]\n",
    "#rename geometry column\n",
    "metro_bus_lines = metro_bus_lines.rename(columns={'geom': 'geometry'})\n",
    "#change to geoedataframe\n",
    "metro_bus_lines = gpd.GeoDataFrame(metro_bus_lines, crs='epsg:4326')\n",
    "#change multpart to single part\n",
    "metro_bus_lines = multi2single(metro_bus_lines)\n",
    "#density the bus line feature (this was for the old euclidean distacne calcs on buses)\n",
    "metro_bus_lines = metro_bus_lines[metro_bus_lines.geometry.length > 0.0001]"
   ]
  },
  {
   "cell_type": "code",
   "execution_count": 41,
   "metadata": {},
   "outputs": [],
   "source": [
    "#join inner city bus lines to regional bus routes\n",
    "metro_bus_lines = regional_bus_lines.append(metro_bus_lines)"
   ]
  },
  {
   "cell_type": "code",
   "execution_count": 42,
   "metadata": {},
   "outputs": [],
   "source": [
    "metro_bus_relation = gpd.GeoDataFrame(metro_bus_lines, crs='epsg:4326')"
   ]
  },
  {
   "cell_type": "code",
   "execution_count": 43,
   "metadata": {},
   "outputs": [],
   "source": [
    "metro_bus_relation.rename(columns={'geom':'geometry', 'objectid':'id'},inplace=True)"
   ]
  },
  {
   "cell_type": "code",
   "execution_count": 44,
   "metadata": {},
   "outputs": [],
   "source": [
    "#append the points of the bus route to a list\n",
    "metro_bus_lines['point_list'] = metro_bus_lines['geometry'].apply(lambda geom : list(geom.coords))\n",
    "# Need to cast to DataFrame because the explode \n",
    "metro_bus_lines = pd.DataFrame(metro_bus_lines).explode('point_list')\n",
    "# Transform lat/lon tuple into Point geometry\n",
    "metro_bus_lines['point_list'] = metro_bus_lines['point_list'].apply(lambda coor : Point(*coor))\n",
    "# Need to turn it into a GeoDataFrame again\n",
    "metro_bus_lines = gpd.GeoDataFrame(metro_bus_lines, crs='epsg:4326')\n",
    "#set the geoemtry to the points of the bus routes (for distance calculations - not used in final version)\n",
    "metro_bus_lines = metro_bus_lines.set_geometry('point_list')"
   ]
  },
  {
   "cell_type": "code",
   "execution_count": 45,
   "metadata": {},
   "outputs": [],
   "source": [
    "data = data.reset_index()"
   ]
  },
  {
   "cell_type": "markdown",
   "metadata": {},
   "source": [
    "## Calculate distances for Train line"
   ]
  },
  {
   "cell_type": "code",
   "execution_count": 46,
   "metadata": {},
   "outputs": [
    {
     "name": "stdout",
     "output_type": "stream",
     "text": [
      "Elapsed time: 38.45293569564819\n"
     ]
    }
   ],
   "source": [
    "start = time.time()\n",
    "# get the distance between points in meters, to the train line\n",
    "closest_lines = nearest_neighbor(data, transit_relation, return_dist=True)\n",
    "print('Elapsed time:', time.time()- start)"
   ]
  },
  {
   "cell_type": "code",
   "execution_count": 47,
   "metadata": {},
   "outputs": [],
   "source": [
    "#eranme the distance to be dist_trns_ln, and then rename the trns_type to be a trns_line_type\n",
    "closest_lines = closest_lines.rename(columns={'trns_type':'trs_line_type' })\n",
    "closest_lines = closest_lines.rename(columns={'distance':'dist_trns_line' })\n",
    "# Rename the geometry of closest stops gdf so that we can easily identify it\n",
    "closest_lines = closest_lines.rename(columns={'point_list': 'closest_line_geom'})\n",
    "#drop the original line geoemtry on the closest line dataframe\n",
    "closest_lines = closest_lines.drop('geometry',axis=1,inplace=False)\n",
    "#drop the id as no longer required\n",
    "closest_lines = closest_lines.drop('id',axis=1,inplace=False)\n",
    "#join the attribute for the distance to the closest train geometry\n",
    "data = data.join(closest_lines)"
   ]
  },
  {
   "cell_type": "code",
   "execution_count": 48,
   "metadata": {},
   "outputs": [
    {
     "data": {
      "text/html": [
       "<div>\n",
       "<style scoped>\n",
       "    .dataframe tbody tr th:only-of-type {\n",
       "        vertical-align: middle;\n",
       "    }\n",
       "\n",
       "    .dataframe tbody tr th {\n",
       "        vertical-align: top;\n",
       "    }\n",
       "\n",
       "    .dataframe thead th {\n",
       "        text-align: right;\n",
       "    }\n",
       "</style>\n",
       "<table border=\"1\" class=\"dataframe\">\n",
       "  <thead>\n",
       "    <tr style=\"text-align: right;\">\n",
       "      <th></th>\n",
       "      <th>trs_line_type</th>\n",
       "      <th>closest_line_geom</th>\n",
       "      <th>dist_trns_line</th>\n",
       "    </tr>\n",
       "  </thead>\n",
       "  <tbody>\n",
       "    <tr>\n",
       "      <th>0</th>\n",
       "      <td>train_line</td>\n",
       "      <td>POINT (116.40017 39.89922)</td>\n",
       "      <td>276.542984</td>\n",
       "    </tr>\n",
       "    <tr>\n",
       "      <th>1</th>\n",
       "      <td>train_line</td>\n",
       "      <td>POINT (116.40053 39.89923)</td>\n",
       "      <td>122.014488</td>\n",
       "    </tr>\n",
       "    <tr>\n",
       "      <th>2</th>\n",
       "      <td>train_line</td>\n",
       "      <td>POINT (116.40074 39.89929)</td>\n",
       "      <td>2.350622</td>\n",
       "    </tr>\n",
       "    <tr>\n",
       "      <th>3</th>\n",
       "      <td>train_line</td>\n",
       "      <td>POINT (116.33119 39.97516)</td>\n",
       "      <td>8.209190</td>\n",
       "    </tr>\n",
       "    <tr>\n",
       "      <th>4</th>\n",
       "      <td>train_line</td>\n",
       "      <td>POINT (116.32899 39.97502)</td>\n",
       "      <td>3.289529</td>\n",
       "    </tr>\n",
       "    <tr>\n",
       "      <th>...</th>\n",
       "      <td>...</td>\n",
       "      <td>...</td>\n",
       "      <td>...</td>\n",
       "    </tr>\n",
       "    <tr>\n",
       "      <th>43626</th>\n",
       "      <td>train_line</td>\n",
       "      <td>POINT (116.30052 39.91562)</td>\n",
       "      <td>858.522696</td>\n",
       "    </tr>\n",
       "    <tr>\n",
       "      <th>43627</th>\n",
       "      <td>train_line</td>\n",
       "      <td>POINT (116.30524 39.94108)</td>\n",
       "      <td>121.482351</td>\n",
       "    </tr>\n",
       "    <tr>\n",
       "      <th>43628</th>\n",
       "      <td>train_line</td>\n",
       "      <td>POINT (116.30156 39.96162)</td>\n",
       "      <td>270.183753</td>\n",
       "    </tr>\n",
       "    <tr>\n",
       "      <th>43629</th>\n",
       "      <td>train_line</td>\n",
       "      <td>POINT (116.33780 39.96886)</td>\n",
       "      <td>589.946631</td>\n",
       "    </tr>\n",
       "    <tr>\n",
       "      <th>43630</th>\n",
       "      <td>train_line</td>\n",
       "      <td>POINT (116.35948 39.97483)</td>\n",
       "      <td>945.232478</td>\n",
       "    </tr>\n",
       "  </tbody>\n",
       "</table>\n",
       "<p>43631 rows × 3 columns</p>\n",
       "</div>"
      ],
      "text/plain": [
       "      trs_line_type           closest_line_geom  dist_trns_line\n",
       "0        train_line  POINT (116.40017 39.89922)      276.542984\n",
       "1        train_line  POINT (116.40053 39.89923)      122.014488\n",
       "2        train_line  POINT (116.40074 39.89929)        2.350622\n",
       "3        train_line  POINT (116.33119 39.97516)        8.209190\n",
       "4        train_line  POINT (116.32899 39.97502)        3.289529\n",
       "...             ...                         ...             ...\n",
       "43626    train_line  POINT (116.30052 39.91562)      858.522696\n",
       "43627    train_line  POINT (116.30524 39.94108)      121.482351\n",
       "43628    train_line  POINT (116.30156 39.96162)      270.183753\n",
       "43629    train_line  POINT (116.33780 39.96886)      589.946631\n",
       "43630    train_line  POINT (116.35948 39.97483)      945.232478\n",
       "\n",
       "[43631 rows x 3 columns]"
      ]
     },
     "execution_count": 48,
     "metadata": {},
     "output_type": "execute_result"
    }
   ],
   "source": [
    "closest_lines"
   ]
  },
  {
   "cell_type": "code",
   "execution_count": null,
   "metadata": {},
   "outputs": [],
   "source": []
  },
  {
   "cell_type": "markdown",
   "metadata": {},
   "source": [
    "## Georeferencing"
   ]
  },
  {
   "cell_type": "code",
   "execution_count": 49,
   "metadata": {},
   "outputs": [],
   "source": [
    "#get h3 grid at zoom level 8\n",
    "bbox = box(115.9776,39.5343,116.8527,40.3028)\n",
    "#load h3_grid\n",
    "h3_grid = load_grid('h3',8,bbox)"
   ]
  },
  {
   "cell_type": "code",
   "execution_count": 50,
   "metadata": {},
   "outputs": [],
   "source": [
    "metro_bus_relation['transport_lin'] = 'bus_line'"
   ]
  },
  {
   "cell_type": "code",
   "execution_count": 51,
   "metadata": {},
   "outputs": [],
   "source": [
    "#rename the geometry column\n",
    "train_relation.rename(columns={'geom':'geometry'},inplace=True)\n",
    "transit_motorway_line.rename(columns={'geom':'geometry'},inplace=True)\n",
    "#list columns to keep\n",
    "col_list2 = ['transport_lin', 'geometry',\\\n",
    "                       'id']\n",
    "#filter only columns that are required\n",
    "train_relation = train_relation[col_list2]\n",
    "metro_bus_relation = metro_bus_relation[col_list2]\n",
    "transit_motorway_line = transit_motorway_line[col_list2]"
   ]
  },
  {
   "cell_type": "code",
   "execution_count": 52,
   "metadata": {},
   "outputs": [
    {
     "data": {
      "text/html": [
       "<div>\n",
       "<style scoped>\n",
       "    .dataframe tbody tr th:only-of-type {\n",
       "        vertical-align: middle;\n",
       "    }\n",
       "\n",
       "    .dataframe tbody tr th {\n",
       "        vertical-align: top;\n",
       "    }\n",
       "\n",
       "    .dataframe thead th {\n",
       "        text-align: right;\n",
       "    }\n",
       "</style>\n",
       "<table border=\"1\" class=\"dataframe\">\n",
       "  <thead>\n",
       "    <tr style=\"text-align: right;\">\n",
       "      <th></th>\n",
       "      <th>transport_lin</th>\n",
       "      <th>geometry</th>\n",
       "      <th>id</th>\n",
       "    </tr>\n",
       "  </thead>\n",
       "  <tbody>\n",
       "    <tr>\n",
       "      <th>5303</th>\n",
       "      <td>motorway_line</td>\n",
       "      <td>LINESTRING (116.17282 39.78176, 116.17314 39.7...</td>\n",
       "      <td>962714848</td>\n",
       "    </tr>\n",
       "  </tbody>\n",
       "</table>\n",
       "</div>"
      ],
      "text/plain": [
       "      transport_lin                                           geometry  \\\n",
       "5303  motorway_line  LINESTRING (116.17282 39.78176, 116.17314 39.7...   \n",
       "\n",
       "             id  \n",
       "5303  962714848  "
      ]
     },
     "execution_count": 52,
     "metadata": {},
     "output_type": "execute_result"
    }
   ],
   "source": [
    "#append all spatial context features into one geodataframe\n",
    "ll = train_relation.append(metro_bus_relation).append(transit_motorway_line)\n",
    "ll = gpd.GeoDataFrame(ll, crs='epsg:4326')\n",
    "ll.tail(1)"
   ]
  },
  {
   "cell_type": "code",
   "execution_count": 53,
   "metadata": {},
   "outputs": [],
   "source": [
    "#make h3 grid_list a geodataframe\n",
    "h3_grid = gpd.GeoDataFrame(h3_grid, crs='epsg:4326')\n",
    "#do a spatial join on the h3 grid (zoom level 8)\n",
    "h3_grid_line = gpd.sjoin(h3_grid, ll, how='inner', op='intersects')\n",
    "#produce a dataframe merge of the features that the h3 grid intersects\n",
    "list_of_feat_lin = h3_grid.merge(h3_grid_line, on='hex_id').groupby(['hex_id']).agg({'transport_lin':list}).reset_index()"
   ]
  },
  {
   "cell_type": "code",
   "execution_count": 54,
   "metadata": {},
   "outputs": [],
   "source": [
    "#only one of the features names in the collection as a set of a possible 3\n",
    "list_of_feat_lin['transport_lin'] = list_of_feat_lin.apply(lambda row: list(set(row['transport_lin'])), axis = 1)"
   ]
  },
  {
   "cell_type": "code",
   "execution_count": 55,
   "metadata": {},
   "outputs": [],
   "source": [
    "h3_grid['geometry'].intersects(ll['geometry'].values[0])\n",
    "#add the list feature to the original geodataframe of points\n",
    "data = data.merge(list_of_feat_lin, on='hex_id', how = 'left')"
   ]
  },
  {
   "cell_type": "code",
   "execution_count": 56,
   "metadata": {},
   "outputs": [],
   "source": [
    "#make timestamp variables string for later extract to shapefile\n",
    "data['timestamp_prev'] = data['timestamp_prev'].astype(str)\n",
    "#data['datetime'] = data['datetime'].astype(str)\n",
    "data['timestamp'] = data['timestamp'].astype(str)\n",
    "data['transport_lin'] = data['transport_lin'].astype(str)"
   ]
  },
  {
   "cell_type": "code",
   "execution_count": 57,
   "metadata": {},
   "outputs": [],
   "source": [
    "#make a boolean column to indicate the presence of a spatial feature\n",
    "data['bus_line'] = np.where(data['transport_lin'].str.contains(\"bus_line\"),1,0)\n",
    "data['rail_line'] = np.where(data['transport_lin'].str.contains(\"rail_line\"),1,0)\n",
    "data['motorway_line'] = np.where(data['transport_lin'].str.contains(\"motorway_line\"),1,0)"
   ]
  },
  {
   "cell_type": "code",
   "execution_count": 58,
   "metadata": {},
   "outputs": [],
   "source": [
    "#define where the start of the jounery is (for possible use in closeness to bus-stops or train stations)\n",
    "data['start'] = np.where(data['time_calc'] == 0, True, False)"
   ]
  },
  {
   "cell_type": "code",
   "execution_count": 59,
   "metadata": {},
   "outputs": [],
   "source": [
    "#added to stop kickbacks and jumps in distance\n",
    "data['velo'] = np.where(data['time_calc'] == 0, 0, data['velo'])\n",
    "#make the distance 0 at the start of the journey as well as the time\n",
    "data['great_circle'] = np.where(data['time_calc'] == 0, 0, data['great_circle'])"
   ]
  },
  {
   "cell_type": "code",
   "execution_count": 60,
   "metadata": {},
   "outputs": [],
   "source": [
    "#if the GPS point is in 15 metres of the train line feature, create a value of in_range\n",
    "data['in_range']= data.apply(lambda row: 1 if (row['dist_trns_line'] <= 15) else 0, axis= 1)"
   ]
  },
  {
   "cell_type": "code",
   "execution_count": 61,
   "metadata": {},
   "outputs": [],
   "source": [
    "#create a function to attain the standard deviation\n",
    "def std(x): \n",
    "    return np.std(x)"
   ]
  },
  {
   "cell_type": "code",
   "execution_count": null,
   "metadata": {},
   "outputs": [],
   "source": []
  },
  {
   "cell_type": "markdown",
   "metadata": {},
   "source": [
    "## Group the Trip features - Create attributes"
   ]
  },
  {
   "cell_type": "code",
   "execution_count": 62,
   "metadata": {},
   "outputs": [],
   "source": [
    "#create the trip feature with attributes defined\n",
    "trips = data.groupby(['U_trip_ID']).agg({'total_trip_time':'first', 'overall_full_dist': 'first', 'count_pts' : 'first', 'bus_line':'sum', 'rail_line':'sum', 'motorway_line':'sum', 'velo':['mean', std, 'max'], 'dist_trns_line':['mean', 'min', 'max'],'in_range':'sum', 'hour':'first', 'dayofweek':'first', 'dayofyear':'first', 'label':lambda x: x.value_counts().index[0]})"
   ]
  },
  {
   "cell_type": "code",
   "execution_count": null,
   "metadata": {},
   "outputs": [],
   "source": []
  },
  {
   "cell_type": "code",
   "execution_count": 63,
   "metadata": {},
   "outputs": [],
   "source": [
    "#delete data from cache\n",
    "#del data"
   ]
  },
  {
   "cell_type": "code",
   "execution_count": 64,
   "metadata": {},
   "outputs": [],
   "source": [
    "#create likelihood values\n",
    "trips['train_conf'] = (trips['rail_line']['sum']/trips['count_pts']['first']).replace(np.inf, 0)\n",
    "trips['bus_conf'] = (trips['bus_line']['sum']/trips['count_pts']['first']).replace(np.inf, 0)\n",
    "trips['motorway_conf'] = (trips['motorway_line']['sum']/trips['count_pts']['first']).replace(np.inf, 0)"
   ]
  },
  {
   "cell_type": "code",
   "execution_count": 65,
   "metadata": {},
   "outputs": [
    {
     "name": "stderr",
     "output_type": "stream",
     "text": [
      "C:\\Users\\ant-r\\Miniconda3\\envs\\gds\\lib\\site-packages\\pandas\\core\\reshape\\merge.py:643: UserWarning: merging between different levels can give an unintended result (2 levels on the left,1 on the right)\n",
      "  warnings.warn(msg, UserWarning)\n"
     ]
    }
   ],
   "source": [
    "#do a merge on the unique trip id with the \n",
    "trips = trips.merge(trip_line, on='U_trip_ID', how= 'left')\n",
    "#make into geodataframe\n",
    "trips = gpd.GeoDataFrame(trips, geometry='geometry')\n",
    "#replace infiity values with zero\n",
    "trips[('velo', 'mean')] = trips[('velo', 'mean')].replace(np.inf, 0)"
   ]
  },
  {
   "cell_type": "code",
   "execution_count": 66,
   "metadata": {},
   "outputs": [],
   "source": [
    "#replace infinite values with zero\n",
    "trips[('velo', 'max')] = trips[('velo', 'max')].replace(np.inf, 0)"
   ]
  },
  {
   "cell_type": "code",
   "execution_count": 67,
   "metadata": {},
   "outputs": [],
   "source": [
    "#rename attributes to more logical names\n",
    "trips = trips.rename(columns={('velo', 'mean') : \"velo_mean\", ('train_conf', ''): \"train_conf\",('motorway_conf', ''): \"motorway_conf\",('bus_conf', ''): \"bus_conf\", ('dist_trns_line', 'mean'):\"dist_trns_line\", ('velo', 'max'):\"max_velo\",('velo', 'std'):\"std_velo\", ('overall_full_dist', 'first'):'overall_full_dist', ('total_trip_time', 'first'):'total_trip_time', ('closest_motorway_dst', 'mean'):'closest_motorway_dst',('in_range', 'sum'):'in_range', ('dist_trns_busline', 'mean'):'dist_trns_busline', ('label', '<lambda>'):'label'}) "
   ]
  },
  {
   "cell_type": "code",
   "execution_count": 68,
   "metadata": {},
   "outputs": [],
   "source": [
    "#ensure that trips are not 0 distance\n",
    "trips = trips[trips['overall_full_dist']>0]"
   ]
  },
  {
   "cell_type": "code",
   "execution_count": 69,
   "metadata": {},
   "outputs": [],
   "source": [
    "#version of the trip features ready for extraction\n",
    "tripsA= trips.loc[:, ['total_trip_time', 'overall_full_dist','train_conf', 'velo_mean','max_velo', 'bus_conf','motorway_conf','in_range','std_velo','dist_trns_line','geometry']]\n",
    "tripsA = gpd.GeoDataFrame(tripsA)"
   ]
  },
  {
   "cell_type": "code",
   "execution_count": null,
   "metadata": {},
   "outputs": [],
   "source": []
  },
  {
   "cell_type": "markdown",
   "metadata": {},
   "source": [
    "## Rule-Based Classifier - Label Trains"
   ]
  },
  {
   "cell_type": "code",
   "execution_count": 70,
   "metadata": {},
   "outputs": [],
   "source": [
    "#the rule to identify trains\n",
    "def trains_(row):\n",
    "    if (row['train_conf']>=0.55) and (((row['in_range']>=2) and (row['dist_trns_line']<=110))|(row['dist_trns_line']<=40)|(row['in_range']>=4)) and (row['velo_mean']>=10) and (row['max_velo']>=15)and (row['std_velo']>=6):\n",
    "        val = 6     \n",
    "    else:\n",
    "        val = None\n",
    "    return val"
   ]
  },
  {
   "cell_type": "code",
   "execution_count": 71,
   "metadata": {},
   "outputs": [],
   "source": [
    "#run the train rule and add labels to the features identified as trains\n",
    "trips['inf_labels'] = trips.apply(trains_, axis=1)\n",
    "#make time minutes\n",
    "trips['total_trip_time']= trips['total_trip_time']/60"
   ]
  },
  {
   "cell_type": "code",
   "execution_count": 72,
   "metadata": {},
   "outputs": [],
   "source": [
    "trips['label'] = trips['label'].replace([5],6)"
   ]
  },
  {
   "cell_type": "code",
   "execution_count": 73,
   "metadata": {},
   "outputs": [],
   "source": [
    "#Break apart the features already labeled with those that are not\n",
    "walk_and_train = trips[trips.inf_labels.notnull()]\n",
    "walk_and_train = walk_and_train.reset_index(drop=True)\n",
    "cars_and_rest = trips[trips.inf_labels.isnull()]\n",
    "walk_and_train = walk_and_train.reset_index(drop=True)"
   ]
  },
  {
   "cell_type": "code",
   "execution_count": 74,
   "metadata": {},
   "outputs": [],
   "source": [
    "#full list of attribution to be retained\n",
    "#data = trips.loc[:, ['total_trip_time', 'overall_full_dist', 'velo_mean','max_velo', 'std_velo','train_conf','bus_conf','train_conf','in_range','motorway_conf','dist_trns_line','label']].values"
   ]
  },
  {
   "cell_type": "code",
   "execution_count": 75,
   "metadata": {},
   "outputs": [
    {
     "data": {
      "text/plain": [
       "0       6\n",
       "1       6\n",
       "2       6\n",
       "3       6\n",
       "4       6\n",
       "       ..\n",
       "5840    6\n",
       "5841    1\n",
       "5842    1\n",
       "5843    1\n",
       "5844    3\n",
       "Name: label, Length: 5839, dtype: int64"
      ]
     },
     "execution_count": 75,
     "metadata": {},
     "output_type": "execute_result"
    }
   ],
   "source": [
    "trips['label']"
   ]
  },
  {
   "cell_type": "code",
   "execution_count": null,
   "metadata": {},
   "outputs": [],
   "source": []
  },
  {
   "cell_type": "markdown",
   "metadata": {},
   "source": [
    "## Random Forest classifier - Creation"
   ]
  },
  {
   "cell_type": "code",
   "execution_count": 76,
   "metadata": {},
   "outputs": [],
   "source": [
    "from sklearn.model_selection import train_test_split\n",
    "from sklearn.tree import DecisionTreeClassifier\n",
    "from sklearn.metrics import classification_report,confusion_matrix, plot_confusion_matrix\n",
    "#random forest full data\n",
    "#now we can train the model\n",
    "from sklearn.ensemble import RandomForestClassifier"
   ]
  },
  {
   "cell_type": "code",
   "execution_count": 77,
   "metadata": {},
   "outputs": [],
   "source": [
    "wrong_labelled = cars_and_rest[(cars_and_rest['label']==6)]"
   ]
  },
  {
   "cell_type": "code",
   "execution_count": null,
   "metadata": {},
   "outputs": [],
   "source": []
  },
  {
   "cell_type": "code",
   "execution_count": 78,
   "metadata": {},
   "outputs": [],
   "source": [
    "cars_and_rest = cars_and_rest[(cars_and_rest['label']==3)|(cars_and_rest['label']==4)|(cars_and_rest['label']==1)]"
   ]
  },
  {
   "cell_type": "code",
   "execution_count": 79,
   "metadata": {},
   "outputs": [],
   "source": [
    "#attribution used in the final version of the random forest \n",
    "X = cars_and_rest[['velo_mean','max_velo','std_velo','bus_conf','motorway_conf','overall_full_dist']]"
   ]
  },
  {
   "cell_type": "code",
   "execution_count": 80,
   "metadata": {},
   "outputs": [],
   "source": [
    "x_train, x_test, y_train, y_test = train_test_split(X,\n",
    "                                                    cars_and_rest[\"label\"],\n",
    "                                                    test_size=0.7,\n",
    "                                                   random_state=101)"
   ]
  },
  {
   "cell_type": "code",
   "execution_count": 81,
   "metadata": {},
   "outputs": [],
   "source": [
    "rf_estimator = RandomForestClassifier(n_estimators=150,\n",
    "                                     max_features=1, random_state = 101\n",
    "                                    )\n",
    "# Train on X/Y train\n",
    "rf_estimator.fit(x_train, y_train)\n",
    "# Predict on X test\n",
    "pred_lbls = pd.Series(rf_estimator.predict(x_test),\n",
    "                          index=x_test.index\n",
    "                         )"
   ]
  },
  {
   "cell_type": "code",
   "execution_count": 82,
   "metadata": {},
   "outputs": [],
   "source": [
    "predictions = rf_estimator.predict(x_test)"
   ]
  },
  {
   "cell_type": "code",
   "execution_count": 83,
   "metadata": {},
   "outputs": [
    {
     "name": "stdout",
     "output_type": "stream",
     "text": [
      "              precision    recall  f1-score   support\n",
      "\n",
      "           1       0.83      0.86      0.84      1457\n",
      "           3       0.74      0.74      0.74      1274\n",
      "           4       0.76      0.70      0.73       781\n",
      "\n",
      "    accuracy                           0.78      3512\n",
      "   macro avg       0.78      0.77      0.77      3512\n",
      "weighted avg       0.78      0.78      0.78      3512\n",
      "\n"
     ]
    }
   ],
   "source": [
    "print(classification_report(y_test,predictions))"
   ]
  },
  {
   "cell_type": "code",
   "execution_count": 84,
   "metadata": {},
   "outputs": [
    {
     "data": {
      "image/png": "[encoded data removed]",
      "text/plain": [
       "<Figure size 432x288 with 2 Axes>"
      ]
     },
     "metadata": {
      "needs_background": "light"
     },
     "output_type": "display_data"
    }
   ],
   "source": [
    "# Generate confusion matrix\n",
    "matrix = plot_confusion_matrix(rf_estimator, x_test, y_test,\n",
    "                                 cmap=plt.cm.Blues,\n",
    "                                 normalize='true')\n",
    "plt.title('Confusion matrix for our classifier')\n",
    "plt.show(matrix)\n",
    "plt.show()"
   ]
  },
  {
   "cell_type": "code",
   "execution_count": 85,
   "metadata": {},
   "outputs": [],
   "source": [
    "predictions = rf_estimator.predict(X)"
   ]
  },
  {
   "cell_type": "code",
   "execution_count": 86,
   "metadata": {},
   "outputs": [],
   "source": [
    "cars_and_rest['inf_labels'] = predictions"
   ]
  },
  {
   "cell_type": "code",
   "execution_count": 87,
   "metadata": {},
   "outputs": [],
   "source": [
    "cars_and_rest = cars_and_rest.reset_index(drop=True)"
   ]
  },
  {
   "cell_type": "code",
   "execution_count": null,
   "metadata": {},
   "outputs": [],
   "source": []
  },
  {
   "cell_type": "code",
   "execution_count": 88,
   "metadata": {},
   "outputs": [],
   "source": [
    "#append tables\n",
    "trips = walk_and_train.append(cars_and_rest).append(wrong_labelled)"
   ]
  },
  {
   "cell_type": "code",
   "execution_count": 89,
   "metadata": {},
   "outputs": [
    {
     "data": {
      "text/plain": [
       "1.0    2172\n",
       "3.0    1826\n",
       "4.0    1019\n",
       "6.0     376\n",
       "Name: inf_labels, dtype: int64"
      ]
     },
     "execution_count": 89,
     "metadata": {},
     "output_type": "execute_result"
    }
   ],
   "source": [
    "trips['inf_labels'].value_counts()"
   ]
  },
  {
   "cell_type": "code",
   "execution_count": 90,
   "metadata": {},
   "outputs": [
    {
     "data": {
      "text/plain": [
       "1    2128\n",
       "3    1829\n",
       "4    1084\n",
       "6     798\n",
       "Name: label, dtype: int64"
      ]
     },
     "execution_count": 90,
     "metadata": {},
     "output_type": "execute_result"
    }
   ],
   "source": [
    "trips['label'].value_counts()"
   ]
  },
  {
   "cell_type": "code",
   "execution_count": 91,
   "metadata": {},
   "outputs": [],
   "source": [
    "def mode_of_trans(row):\n",
    "    if row['label'] == 1:\n",
    "        val = 'walk'\n",
    "    elif row['label'] == 3:\n",
    "        val = 'bus'\n",
    "    elif row['label'] == 4:\n",
    "        val = 'car'\n",
    "    else:\n",
    "        val = 'train'\n",
    "    return val"
   ]
  },
  {
   "cell_type": "code",
   "execution_count": 92,
   "metadata": {},
   "outputs": [],
   "source": [
    "def mode_of_trans2(row):\n",
    "    if row['inf_labels'] == 1.0:\n",
    "        val = 'walk'\n",
    "    elif row['inf_labels'] == 3.0:\n",
    "        val = 'bus'\n",
    "    elif row['inf_labels'] == 4.0:\n",
    "        val = 'car'\n",
    "    elif row['inf_labels'] == 0:\n",
    "        val = 'x_unclassified'\n",
    "    else:\n",
    "        val = 'train'\n",
    "    return val"
   ]
  },
  {
   "cell_type": "code",
   "execution_count": null,
   "metadata": {},
   "outputs": [],
   "source": []
  },
  {
   "cell_type": "code",
   "execution_count": 93,
   "metadata": {},
   "outputs": [],
   "source": [
    "trips[['inf_labels']] = trips[['inf_labels']].fillna(value=0)"
   ]
  },
  {
   "cell_type": "code",
   "execution_count": 94,
   "metadata": {},
   "outputs": [],
   "source": [
    "trips['label'] = trips.apply(mode_of_trans, axis=1)"
   ]
  },
  {
   "cell_type": "code",
   "execution_count": 95,
   "metadata": {},
   "outputs": [],
   "source": [
    "trips['inf_labels'] = trips.apply(mode_of_trans2, axis=1)"
   ]
  },
  {
   "cell_type": "markdown",
   "metadata": {},
   "source": [
    "## Calculate Variable Importance"
   ]
  },
  {
   "cell_type": "code",
   "execution_count": 96,
   "metadata": {},
   "outputs": [],
   "source": [
    "from sklearn.ensemble._forest import _generate_unsampled_indices\n",
    "from sklearn.ensemble._forest import _get_n_samples_bootstrap"
   ]
  },
  {
   "cell_type": "code",
   "execution_count": 97,
   "metadata": {},
   "outputs": [],
   "source": [
    "def _get_unsampled_indices(tree, nsamples):\n",
    "    X=x_train.values\n",
    "    n_samples = len(X)\n",
    "    n_samples_bootstrap = _get_n_samples_bootstrap(n_samples, n_samples)\n",
    "    return _generate_unsampled_indices(tree.random_state, n_samples, n_samples_bootstrap)"
   ]
  },
  {
   "cell_type": "code",
   "execution_count": 98,
   "metadata": {},
   "outputs": [],
   "source": [
    "#permutation importance\n",
    "from sklearn.metrics import r2_score\n",
    "from rfpimp import permutation_importances\n",
    "import random\n",
    "def oob_classifier_accuracy(rf, x_train, y_train):\n",
    "    x = x_train.values\n",
    "    y= y_train.values\n",
    "    \n",
    "    n_samples = len(x)\n",
    "    n_classes = len(np.unique(y))\n",
    "    predictions = np.zeros((n_samples, n_classes))\n",
    "    for tree in rf.estimators_:\n",
    "        unsampled_indices = _get_unsampled_indices(tree, n_samples)\n",
    "        tree_preds = tree.predict_proba(x[unsampled_indices,:])\n",
    "        predictions[unsampled_indices] += tree_preds\n",
    "        \n",
    "    predicted_class_indexes = np.argmax(predictions, axis=1)\n",
    "    predicted_classes = [rf.classes_[i] for i in predicted_class_indexes]\n",
    "    \n",
    "    oob_score = np.mean(y==predicted_classes)\n",
    "    return oob_score\n",
    "\n",
    "perm_imp_rfpimp = permutation_importances(rf_estimator, x_train, y_train, oob_classifier_accuracy)"
   ]
  },
  {
   "cell_type": "code",
   "execution_count": 99,
   "metadata": {},
   "outputs": [],
   "source": [
    "random.seed(101)"
   ]
  },
  {
   "cell_type": "code",
   "execution_count": 100,
   "metadata": {},
   "outputs": [],
   "source": [
    "X['random'] = np.random.random(size = len(X))"
   ]
  },
  {
   "cell_type": "code",
   "execution_count": 101,
   "metadata": {},
   "outputs": [],
   "source": [
    "x_train, x_test, y_train, y_test = train_test_split(X,\n",
    "                                                    cars_and_rest[\"label\"],\n",
    "                                                    test_size=0.7\n",
    "                                                   ,random_state=101)"
   ]
  },
  {
   "cell_type": "code",
   "execution_count": 102,
   "metadata": {},
   "outputs": [
    {
     "data": {
      "text/plain": [
       "RandomForestClassifier(max_features=1, n_estimators=150, random_state=101)"
      ]
     },
     "execution_count": 102,
     "metadata": {},
     "output_type": "execute_result"
    }
   ],
   "source": [
    "rf_estimator2 = RandomForestClassifier(n_estimators=150,\n",
    "                                     max_features=1,\n",
    "                                    random_state=101)\n",
    "# Train on X/Y train\n",
    "rf_estimator2.fit(x_train, y_train)"
   ]
  },
  {
   "cell_type": "code",
   "execution_count": 103,
   "metadata": {},
   "outputs": [
    {
     "data": {
      "text/html": [
       "<div>\n",
       "<style scoped>\n",
       "    .dataframe tbody tr th:only-of-type {\n",
       "        vertical-align: middle;\n",
       "    }\n",
       "\n",
       "    .dataframe tbody tr th {\n",
       "        vertical-align: top;\n",
       "    }\n",
       "\n",
       "    .dataframe thead th {\n",
       "        text-align: right;\n",
       "    }\n",
       "</style>\n",
       "<table border=\"1\" class=\"dataframe\">\n",
       "  <thead>\n",
       "    <tr style=\"text-align: right;\">\n",
       "      <th></th>\n",
       "      <th>Importance</th>\n",
       "    </tr>\n",
       "    <tr>\n",
       "      <th>Feature</th>\n",
       "      <th></th>\n",
       "    </tr>\n",
       "  </thead>\n",
       "  <tbody>\n",
       "    <tr>\n",
       "      <th>velo_mean</th>\n",
       "      <td>0.095681</td>\n",
       "    </tr>\n",
       "    <tr>\n",
       "      <th>std_velo</th>\n",
       "      <td>0.035880</td>\n",
       "    </tr>\n",
       "    <tr>\n",
       "      <th>overall_full_dist</th>\n",
       "      <td>0.027907</td>\n",
       "    </tr>\n",
       "    <tr>\n",
       "      <th>max_velo</th>\n",
       "      <td>0.025249</td>\n",
       "    </tr>\n",
       "    <tr>\n",
       "      <th>motorway_conf</th>\n",
       "      <td>0.014618</td>\n",
       "    </tr>\n",
       "    <tr>\n",
       "      <th>bus_conf</th>\n",
       "      <td>0.013953</td>\n",
       "    </tr>\n",
       "    <tr>\n",
       "      <th>random</th>\n",
       "      <td>0.007309</td>\n",
       "    </tr>\n",
       "  </tbody>\n",
       "</table>\n",
       "</div>"
      ],
      "text/plain": [
       "                   Importance\n",
       "Feature                      \n",
       "velo_mean            0.095681\n",
       "std_velo             0.035880\n",
       "overall_full_dist    0.027907\n",
       "max_velo             0.025249\n",
       "motorway_conf        0.014618\n",
       "bus_conf             0.013953\n",
       "random               0.007309"
      ]
     },
     "execution_count": 103,
     "metadata": {},
     "output_type": "execute_result"
    }
   ],
   "source": [
    "perm_imp_rfpimp = permutation_importances(rf_estimator2, x_train, y_train, oob_classifier_accuracy)\n",
    "perm_imp_rfpimp"
   ]
  },
  {
   "cell_type": "code",
   "execution_count": 104,
   "metadata": {},
   "outputs": [],
   "source": [
    "perm_imp_rfpimp = perm_imp_rfpimp.reset_index()"
   ]
  },
  {
   "cell_type": "code",
   "execution_count": 105,
   "metadata": {},
   "outputs": [],
   "source": [
    "trips = trips.rename(columns={('velo', 'mean') : \"velo_mean\", ('train_conf', ''): \"train_conf\",('motorway_conf', ''): \"motorway_conf\",('bus_conf', ''): \"bus_conf\", ('dist_trns_line', 'mean'):\"dist_trns_line\", ('velo', 'max'):\"max_velo\",('velo', 'std'):\"std_velo\", ('overall_full_dist', 'first'):'overall_full_dist', ('total_trip_time', 'first'):'total_trip_time', ('closest_motorway_dst', 'mean'):'closest_motorway_dst',('in_range', 'sum'):'in_range', ('dist_trns_busline', 'mean'):'dist_trns_busline', ('label', '<lambda>'):'label'}) "
   ]
  },
  {
   "cell_type": "code",
   "execution_count": 106,
   "metadata": {},
   "outputs": [
    {
     "data": {
      "image/png": "[encoded data removed]",
      "text/plain": [
       "<Figure size 576x288 with 1 Axes>"
      ]
     },
     "metadata": {
      "needs_background": "light"
     },
     "output_type": "display_data"
    }
   ],
   "source": [
    "ax = plt.figure(figsize=(8,4))\n",
    "\n",
    "sns.barplot(y=\"Feature\", x=\"Importance\", data=perm_imp_rfpimp)\n",
    "\n",
    "plt.tight_layout()\n",
    "plt.show()\n"
   ]
  },
  {
   "cell_type": "code",
   "execution_count": null,
   "metadata": {},
   "outputs": [],
   "source": []
  },
  {
   "cell_type": "code",
   "execution_count": null,
   "metadata": {},
   "outputs": [],
   "source": []
  },
  {
   "cell_type": "code",
   "execution_count": null,
   "metadata": {},
   "outputs": [],
   "source": []
  },
  {
   "cell_type": "code",
   "execution_count": 107,
   "metadata": {},
   "outputs": [],
   "source": [
    "trips['total_trip_time'] = trips['total_trip_time']/60"
   ]
  },
  {
   "cell_type": "markdown",
   "metadata": {},
   "source": [
    "## Univariate Analysis of trips"
   ]
  },
  {
   "cell_type": "code",
   "execution_count": 108,
   "metadata": {},
   "outputs": [
    {
     "data": {
      "text/plain": [
       "Text(0.5, 0.98, 'Boxplots - Univariate comparison of trips')"
      ]
     },
     "execution_count": 108,
     "metadata": {},
     "output_type": "execute_result"
    },
    {
     "data": {
      "image/png": "[encoded data removed]",
      "text/plain": [
       "<Figure size 432x720 with 4 Axes>"
      ]
     },
     "metadata": {
      "needs_background": "light"
     },
     "output_type": "display_data"
    }
   ],
   "source": [
    "#Generate figure size as 15x16\n",
    "fig4 = plt.figure(figsize=(6, 10))\n",
    "#layout 2cols by 3rows\n",
    "spec4 = fig4.add_gridspec(ncols=2, nrows=2)\n",
    "\n",
    "#generate subplots in formation\n",
    "f4_ax1 = fig4.add_subplot(spec4[0, 0])\n",
    "f4_ax2 = fig4.add_subplot(spec4[0, 1])\n",
    "f4_ax3 = fig4.add_subplot(spec4[1, 0])\n",
    "f4_ax4 = fig4.add_subplot(spec4[1, 1])\n",
    "\n",
    "#generate boxplot\n",
    "sns.boxplot(y = \"velo_mean\",\n",
    "            x = \"label\",\n",
    "            data = trips,\n",
    "            #colour by age\n",
    "            #choose axis\n",
    "            ax=f4_ax1\n",
    "           )\n",
    "sns.boxplot(y = \"max_velo\",\n",
    "            x = \"label\",\n",
    "            data = trips,\n",
    "            #colour by gender\n",
    "            #choose axis\n",
    "            ax=f4_ax2\n",
    "            #select alternative colour\n",
    "           )\n",
    "sns.boxplot(y = \"overall_full_dist\",\n",
    "            x = \"label\",\n",
    "            data = trips,\n",
    "            #colour by gender\n",
    "            #choose axis\n",
    "            ax=f4_ax3\n",
    "            #select alternative colour\n",
    "           )\n",
    "sns.boxplot(y = \"std_velo\",\n",
    "            x = \"label\",\n",
    "            data = trips,\n",
    "            #colour by gender\n",
    "            #choose axis\n",
    "            ax=f4_ax4\n",
    "            #select alternative colour\n",
    "           )\n",
    "f4_ax1.set_ylim(0,50)\n",
    "f4_ax1.set_title('Mean Velocity')\n",
    "#set $200 million y-limit\n",
    "f4_ax2.set_ylim(0, 100)\n",
    "f4_ax2.set_title('Max Velocity')\n",
    "f4_ax3.set_ylim(0, 40)\n",
    "f4_ax3.set_title('Full Distance (miles)')\n",
    "f4_ax4.set_ylim(0, 45)\n",
    "f4_ax4.set_title('Standard Deviation of Velocity')\n",
    "\n",
    "fig4.suptitle('Boxplots - Univariate comparison of trips', fontsize=20)"
   ]
  },
  {
   "cell_type": "markdown",
   "metadata": {},
   "source": [
    "## Display Average Values - Random Forest"
   ]
  },
  {
   "cell_type": "code",
   "execution_count": 109,
   "metadata": {},
   "outputs": [
    {
     "data": {
      "text/html": [
       "<div>\n",
       "<style scoped>\n",
       "    .dataframe tbody tr th:only-of-type {\n",
       "        vertical-align: middle;\n",
       "    }\n",
       "\n",
       "    .dataframe tbody tr th {\n",
       "        vertical-align: top;\n",
       "    }\n",
       "\n",
       "    .dataframe thead th {\n",
       "        text-align: right;\n",
       "    }\n",
       "</style>\n",
       "<table border=\"1\" class=\"dataframe\">\n",
       "  <thead>\n",
       "    <tr style=\"text-align: right;\">\n",
       "      <th>TABLE 2 - RF MATRIX</th>\n",
       "      <th>total_trip_time</th>\n",
       "      <th>overall_full_dist</th>\n",
       "      <th>train_conf</th>\n",
       "      <th>velo_mean</th>\n",
       "      <th>max_velo</th>\n",
       "      <th>bus_conf</th>\n",
       "      <th>motorway_conf</th>\n",
       "      <th>in_range</th>\n",
       "      <th>std_velo</th>\n",
       "      <th>dist_trns_line</th>\n",
       "    </tr>\n",
       "    <tr>\n",
       "      <th>inf_labels</th>\n",
       "      <th></th>\n",
       "      <th></th>\n",
       "      <th></th>\n",
       "      <th></th>\n",
       "      <th></th>\n",
       "      <th></th>\n",
       "      <th></th>\n",
       "      <th></th>\n",
       "      <th></th>\n",
       "      <th></th>\n",
       "    </tr>\n",
       "  </thead>\n",
       "  <tbody>\n",
       "    <tr>\n",
       "      <th>bus</th>\n",
       "      <td>0.50</td>\n",
       "      <td>4.64</td>\n",
       "      <td>0.11</td>\n",
       "      <td>7.41</td>\n",
       "      <td>16.10</td>\n",
       "      <td>0.90</td>\n",
       "      <td>0.10</td>\n",
       "      <td>1.15</td>\n",
       "      <td>5.37</td>\n",
       "      <td>70338.90</td>\n",
       "    </tr>\n",
       "    <tr>\n",
       "      <th>car</th>\n",
       "      <td>0.55</td>\n",
       "      <td>12.28</td>\n",
       "      <td>0.14</td>\n",
       "      <td>18.18</td>\n",
       "      <td>37.74</td>\n",
       "      <td>0.66</td>\n",
       "      <td>0.31</td>\n",
       "      <td>0.64</td>\n",
       "      <td>12.73</td>\n",
       "      <td>241439.20</td>\n",
       "    </tr>\n",
       "    <tr>\n",
       "      <th>train</th>\n",
       "      <td>0.43</td>\n",
       "      <td>8.78</td>\n",
       "      <td>0.92</td>\n",
       "      <td>17.93</td>\n",
       "      <td>36.51</td>\n",
       "      <td>0.78</td>\n",
       "      <td>0.30</td>\n",
       "      <td>5.26</td>\n",
       "      <td>13.09</td>\n",
       "      <td>43.73</td>\n",
       "    </tr>\n",
       "    <tr>\n",
       "      <th>walk</th>\n",
       "      <td>0.22</td>\n",
       "      <td>0.57</td>\n",
       "      <td>0.16</td>\n",
       "      <td>2.04</td>\n",
       "      <td>4.85</td>\n",
       "      <td>0.71</td>\n",
       "      <td>0.08</td>\n",
       "      <td>0.45</td>\n",
       "      <td>1.85</td>\n",
       "      <td>63733.79</td>\n",
       "    </tr>\n",
       "    <tr>\n",
       "      <th>x_unclassified</th>\n",
       "      <td>0.65</td>\n",
       "      <td>25.53</td>\n",
       "      <td>0.20</td>\n",
       "      <td>23.88</td>\n",
       "      <td>42.27</td>\n",
       "      <td>0.24</td>\n",
       "      <td>0.04</td>\n",
       "      <td>0.66</td>\n",
       "      <td>14.77</td>\n",
       "      <td>438036.95</td>\n",
       "    </tr>\n",
       "  </tbody>\n",
       "</table>\n",
       "</div>"
      ],
      "text/plain": [
       "TABLE 2 - RF MATRIX  total_trip_time  overall_full_dist  train_conf  \\\n",
       "inf_labels                                                            \n",
       "bus                             0.50               4.64        0.11   \n",
       "car                             0.55              12.28        0.14   \n",
       "train                           0.43               8.78        0.92   \n",
       "walk                            0.22               0.57        0.16   \n",
       "x_unclassified                  0.65              25.53        0.20   \n",
       "\n",
       "TABLE 2 - RF MATRIX  velo_mean  max_velo  bus_conf  motorway_conf  in_range  \\\n",
       "inf_labels                                                                    \n",
       "bus                       7.41     16.10      0.90           0.10      1.15   \n",
       "car                      18.18     37.74      0.66           0.31      0.64   \n",
       "train                    17.93     36.51      0.78           0.30      5.26   \n",
       "walk                      2.04      4.85      0.71           0.08      0.45   \n",
       "x_unclassified           23.88     42.27      0.24           0.04      0.66   \n",
       "\n",
       "TABLE 2 - RF MATRIX  std_velo  dist_trns_line  \n",
       "inf_labels                                     \n",
       "bus                      5.37        70338.90  \n",
       "car                     12.73       241439.20  \n",
       "train                   13.09           43.73  \n",
       "walk                     1.85        63733.79  \n",
       "x_unclassified          14.77       438036.95  "
      ]
     },
     "execution_count": 109,
     "metadata": {},
     "output_type": "execute_result"
    }
   ],
   "source": [
    "tripsA = trips.loc[:, ['U_trip_ID','total_trip_time', 'overall_full_dist', 'velo_mean','max_velo','std_velo','dist_trns_line', 'bus_conf','motorway_conf','geometry','inf_labels','label', 'train_conf', 'in_range']]\n",
    "g = tripsA.loc[:, ['total_trip_time', 'overall_full_dist','train_conf', 'velo_mean','max_velo', 'bus_conf','motorway_conf','in_range','std_velo','dist_trns_line']].groupby(tripsA['inf_labels'])\n",
    "g.size()\\\n",
    " .sort_values()\n",
    "#generate the average\n",
    "g2 = g.mean()\n",
    "#round to 2 decimal places\n",
    "g2 = g2.round(2)\n",
    "#rename axis with Table 1 label\n",
    "g2 = g2.rename_axis('TABLE 2 - RF MATRIX', axis=1)\n",
    "g2"
   ]
  },
  {
   "cell_type": "code",
   "execution_count": 110,
   "metadata": {},
   "outputs": [],
   "source": [
    "#append tables\n",
    "#trips = walk_and_train.append(cars_and_rest)"
   ]
  },
  {
   "cell_type": "markdown",
   "metadata": {},
   "source": [
    "## Display average values - Both Rules and RF"
   ]
  },
  {
   "cell_type": "code",
   "execution_count": 111,
   "metadata": {},
   "outputs": [
    {
     "data": {
      "text/html": [
       "<div>\n",
       "<style scoped>\n",
       "    .dataframe tbody tr th:only-of-type {\n",
       "        vertical-align: middle;\n",
       "    }\n",
       "\n",
       "    .dataframe tbody tr th {\n",
       "        vertical-align: top;\n",
       "    }\n",
       "\n",
       "    .dataframe thead th {\n",
       "        text-align: right;\n",
       "    }\n",
       "</style>\n",
       "<table border=\"1\" class=\"dataframe\">\n",
       "  <thead>\n",
       "    <tr style=\"text-align: right;\">\n",
       "      <th>TABLE 2 - RF MATRIX</th>\n",
       "      <th>total_trip_time</th>\n",
       "      <th>overall_full_dist</th>\n",
       "      <th>train_conf</th>\n",
       "      <th>velo_mean</th>\n",
       "      <th>max_velo</th>\n",
       "      <th>bus_conf</th>\n",
       "      <th>motorway_conf</th>\n",
       "      <th>in_range</th>\n",
       "      <th>std_velo</th>\n",
       "      <th>dist_trns_line</th>\n",
       "    </tr>\n",
       "    <tr>\n",
       "      <th>label</th>\n",
       "      <th></th>\n",
       "      <th></th>\n",
       "      <th></th>\n",
       "      <th></th>\n",
       "      <th></th>\n",
       "      <th></th>\n",
       "      <th></th>\n",
       "      <th></th>\n",
       "      <th></th>\n",
       "      <th></th>\n",
       "    </tr>\n",
       "  </thead>\n",
       "  <tbody>\n",
       "    <tr>\n",
       "      <th>bus</th>\n",
       "      <td>0.49</td>\n",
       "      <td>4.88</td>\n",
       "      <td>0.10</td>\n",
       "      <td>7.69</td>\n",
       "      <td>16.46</td>\n",
       "      <td>0.90</td>\n",
       "      <td>0.11</td>\n",
       "      <td>1.13</td>\n",
       "      <td>5.53</td>\n",
       "      <td>28178.53</td>\n",
       "    </tr>\n",
       "    <tr>\n",
       "      <th>car</th>\n",
       "      <td>0.52</td>\n",
       "      <td>10.94</td>\n",
       "      <td>0.13</td>\n",
       "      <td>16.45</td>\n",
       "      <td>34.41</td>\n",
       "      <td>0.69</td>\n",
       "      <td>0.28</td>\n",
       "      <td>0.65</td>\n",
       "      <td>11.61</td>\n",
       "      <td>325461.64</td>\n",
       "    </tr>\n",
       "    <tr>\n",
       "      <th>train</th>\n",
       "      <td>0.55</td>\n",
       "      <td>18.18</td>\n",
       "      <td>0.52</td>\n",
       "      <td>21.36</td>\n",
       "      <td>39.80</td>\n",
       "      <td>0.48</td>\n",
       "      <td>0.15</td>\n",
       "      <td>2.70</td>\n",
       "      <td>14.06</td>\n",
       "      <td>244835.90</td>\n",
       "    </tr>\n",
       "    <tr>\n",
       "      <th>walk</th>\n",
       "      <td>0.23</td>\n",
       "      <td>0.77</td>\n",
       "      <td>0.17</td>\n",
       "      <td>2.32</td>\n",
       "      <td>5.54</td>\n",
       "      <td>0.70</td>\n",
       "      <td>0.08</td>\n",
       "      <td>0.49</td>\n",
       "      <td>2.07</td>\n",
       "      <td>51014.15</td>\n",
       "    </tr>\n",
       "  </tbody>\n",
       "</table>\n",
       "</div>"
      ],
      "text/plain": [
       "TABLE 2 - RF MATRIX  total_trip_time  overall_full_dist  train_conf  \\\n",
       "label                                                                 \n",
       "bus                             0.49               4.88        0.10   \n",
       "car                             0.52              10.94        0.13   \n",
       "train                           0.55              18.18        0.52   \n",
       "walk                            0.23               0.77        0.17   \n",
       "\n",
       "TABLE 2 - RF MATRIX  velo_mean  max_velo  bus_conf  motorway_conf  in_range  \\\n",
       "label                                                                         \n",
       "bus                       7.69     16.46      0.90           0.11      1.13   \n",
       "car                      16.45     34.41      0.69           0.28      0.65   \n",
       "train                    21.36     39.80      0.48           0.15      2.70   \n",
       "walk                      2.32      5.54      0.70           0.08      0.49   \n",
       "\n",
       "TABLE 2 - RF MATRIX  std_velo  dist_trns_line  \n",
       "label                                          \n",
       "bus                      5.53        28178.53  \n",
       "car                     11.61       325461.64  \n",
       "train                   14.06       244835.90  \n",
       "walk                     2.07        51014.15  "
      ]
     },
     "execution_count": 111,
     "metadata": {},
     "output_type": "execute_result"
    }
   ],
   "source": [
    "g = trips.loc[:, ['total_trip_time', 'overall_full_dist','train_conf', 'velo_mean','max_velo', 'bus_conf','motorway_conf','in_range','std_velo','dist_trns_line']].groupby(trips['label'])\n",
    "g.size()\\\n",
    " .sort_values()\n",
    "#generate the average\n",
    "g2 = g.mean()\n",
    "#round to 2 decimal places\n",
    "g2 = g2.round(2)\n",
    "#rename axis with Table 1 label\n",
    "g2 = g2.rename_axis('TABLE 2 - RF MATRIX', axis=1)\n",
    "g2"
   ]
  },
  {
   "cell_type": "code",
   "execution_count": 112,
   "metadata": {},
   "outputs": [
    {
     "data": {
      "text/html": [
       "<div>\n",
       "<style scoped>\n",
       "    .dataframe tbody tr th:only-of-type {\n",
       "        vertical-align: middle;\n",
       "    }\n",
       "\n",
       "    .dataframe tbody tr th {\n",
       "        vertical-align: top;\n",
       "    }\n",
       "\n",
       "    .dataframe thead th {\n",
       "        text-align: right;\n",
       "    }\n",
       "</style>\n",
       "<table border=\"1\" class=\"dataframe\">\n",
       "  <thead>\n",
       "    <tr style=\"text-align: right;\">\n",
       "      <th>TABLE 2 - Real Vals MATRIX</th>\n",
       "      <th>total_trip_time</th>\n",
       "      <th>overall_full_dist</th>\n",
       "      <th>velo_mean</th>\n",
       "      <th>max_velo</th>\n",
       "      <th>std_velo</th>\n",
       "      <th>bus_conf</th>\n",
       "      <th>motorway_conf</th>\n",
       "      <th>dist_trns_line</th>\n",
       "    </tr>\n",
       "    <tr>\n",
       "      <th>inf_labels</th>\n",
       "      <th></th>\n",
       "      <th></th>\n",
       "      <th></th>\n",
       "      <th></th>\n",
       "      <th></th>\n",
       "      <th></th>\n",
       "      <th></th>\n",
       "      <th></th>\n",
       "    </tr>\n",
       "  </thead>\n",
       "  <tbody>\n",
       "    <tr>\n",
       "      <th>bus</th>\n",
       "      <td>0.50</td>\n",
       "      <td>4.64</td>\n",
       "      <td>7.41</td>\n",
       "      <td>16.10</td>\n",
       "      <td>5.37</td>\n",
       "      <td>0.90</td>\n",
       "      <td>0.10</td>\n",
       "      <td>70338.90</td>\n",
       "    </tr>\n",
       "    <tr>\n",
       "      <th>car</th>\n",
       "      <td>0.55</td>\n",
       "      <td>12.28</td>\n",
       "      <td>18.18</td>\n",
       "      <td>37.74</td>\n",
       "      <td>12.73</td>\n",
       "      <td>0.66</td>\n",
       "      <td>0.31</td>\n",
       "      <td>241439.20</td>\n",
       "    </tr>\n",
       "    <tr>\n",
       "      <th>train</th>\n",
       "      <td>0.43</td>\n",
       "      <td>8.78</td>\n",
       "      <td>17.93</td>\n",
       "      <td>36.51</td>\n",
       "      <td>13.09</td>\n",
       "      <td>0.78</td>\n",
       "      <td>0.30</td>\n",
       "      <td>43.73</td>\n",
       "    </tr>\n",
       "    <tr>\n",
       "      <th>walk</th>\n",
       "      <td>0.22</td>\n",
       "      <td>0.57</td>\n",
       "      <td>2.04</td>\n",
       "      <td>4.85</td>\n",
       "      <td>1.85</td>\n",
       "      <td>0.71</td>\n",
       "      <td>0.08</td>\n",
       "      <td>63733.79</td>\n",
       "    </tr>\n",
       "    <tr>\n",
       "      <th>x_unclassified</th>\n",
       "      <td>0.65</td>\n",
       "      <td>25.53</td>\n",
       "      <td>23.88</td>\n",
       "      <td>42.27</td>\n",
       "      <td>14.77</td>\n",
       "      <td>0.24</td>\n",
       "      <td>0.04</td>\n",
       "      <td>438036.95</td>\n",
       "    </tr>\n",
       "  </tbody>\n",
       "</table>\n",
       "</div>"
      ],
      "text/plain": [
       "TABLE 2 - Real Vals MATRIX  total_trip_time  overall_full_dist  velo_mean  \\\n",
       "inf_labels                                                                  \n",
       "bus                                    0.50               4.64       7.41   \n",
       "car                                    0.55              12.28      18.18   \n",
       "train                                  0.43               8.78      17.93   \n",
       "walk                                   0.22               0.57       2.04   \n",
       "x_unclassified                         0.65              25.53      23.88   \n",
       "\n",
       "TABLE 2 - Real Vals MATRIX  max_velo  std_velo  bus_conf  motorway_conf  \\\n",
       "inf_labels                                                                \n",
       "bus                            16.10      5.37      0.90           0.10   \n",
       "car                            37.74     12.73      0.66           0.31   \n",
       "train                          36.51     13.09      0.78           0.30   \n",
       "walk                            4.85      1.85      0.71           0.08   \n",
       "x_unclassified                 42.27     14.77      0.24           0.04   \n",
       "\n",
       "TABLE 2 - Real Vals MATRIX  dist_trns_line  \n",
       "inf_labels                                  \n",
       "bus                               70338.90  \n",
       "car                              241439.20  \n",
       "train                                43.73  \n",
       "walk                              63733.79  \n",
       "x_unclassified                   438036.95  "
      ]
     },
     "execution_count": 112,
     "metadata": {},
     "output_type": "execute_result"
    }
   ],
   "source": [
    "tripsA = trips.loc[:, ['U_trip_ID','total_trip_time', 'overall_full_dist', 'velo_mean','max_velo','std_velo', 'bus_conf','dist_trns_line','motorway_conf','geometry','inf_labels','label']]\n",
    "g = tripsA.loc[:, ['total_trip_time', 'overall_full_dist', 'velo_mean','max_velo','std_velo', 'bus_conf','motorway_conf','dist_trns_line']].groupby(tripsA['inf_labels'])\n",
    "g.size()\\\n",
    " .sort_values()\n",
    "#generate the average\n",
    "g2 = g.mean()\n",
    "#round to 2 decimal places\n",
    "g2 = g2.round(2)\n",
    "#rename axis with Table 1 label\n",
    "g2 = g2.rename_axis('TABLE 2 - Real Vals MATRIX', axis=1)\n",
    "g2"
   ]
  },
  {
   "cell_type": "code",
   "execution_count": null,
   "metadata": {},
   "outputs": [],
   "source": []
  },
  {
   "cell_type": "code",
   "execution_count": 113,
   "metadata": {},
   "outputs": [],
   "source": [
    "trips = trips.rename(columns={('dayofweek', 'first') : \"dayofweek\", ('hour', 'first') : \"hour\"})"
   ]
  },
  {
   "cell_type": "code",
   "execution_count": null,
   "metadata": {},
   "outputs": [],
   "source": []
  },
  {
   "cell_type": "code",
   "execution_count": 114,
   "metadata": {},
   "outputs": [],
   "source": [
    "#for extractions\n",
    "tripsA = trips.loc[:, ['U_trip_ID','total_trip_time', 'overall_full_dist', 'velo_mean','max_velo', 'train_conf','bus_conf','std_velo', 'dist_trns_line','geometry','inf_labels','hour','dayofweek']]\n",
    "tripsA = gpd.GeoDataFrame(tripsA, crs='epsg:4326')"
   ]
  },
  {
   "cell_type": "code",
   "execution_count": 115,
   "metadata": {},
   "outputs": [],
   "source": [
    "#process to label the days from numbers to strings\n",
    "days = {0:'Mon',1:'Tues',2:'Weds',3:'Thurs',4:'Fri',5:'Sat',6:'Sun'}\n",
    "cats = [ 'Mon', 'Tues', 'Weds', 'Thurs', 'Fri', 'Sat', 'Sun']"
   ]
  },
  {
   "cell_type": "code",
   "execution_count": 116,
   "metadata": {},
   "outputs": [],
   "source": [
    "#apply the process to label days\n",
    "trips['dayofweek'] = trips['dayofweek'].apply(lambda x: days[x])"
   ]
  },
  {
   "cell_type": "code",
   "execution_count": 117,
   "metadata": {},
   "outputs": [],
   "source": [
    "cat_type = CategoricalDtype(categories=cats, ordered=True)"
   ]
  },
  {
   "cell_type": "code",
   "execution_count": 118,
   "metadata": {},
   "outputs": [],
   "source": [
    "trips['dayofweek'] = trips['dayofweek'].astype(cat_type)"
   ]
  },
  {
   "cell_type": "code",
   "execution_count": 119,
   "metadata": {},
   "outputs": [],
   "source": [
    "trips = trips.rename(columns={('dayofweek', 'first') : \"dayofweek\", ('hour', 'first') : \"hour\"})"
   ]
  },
  {
   "cell_type": "code",
   "execution_count": 120,
   "metadata": {},
   "outputs": [],
   "source": [
    "tripsA = gpd.GeoDataFrame(tripsA, crs='epsg:4326')\n",
    "g = trips.groupby(['dayofweek','hour']).agg({'U_trip_ID':'count'})\n",
    "g = g.reset_index().pivot(index='hour', columns='dayofweek', values='U_trip_ID')"
   ]
  },
  {
   "cell_type": "markdown",
   "metadata": {},
   "source": [
    "## Create Temporal Heatmaps"
   ]
  },
  {
   "cell_type": "code",
   "execution_count": 121,
   "metadata": {},
   "outputs": [],
   "source": [
    "h = trips.groupby(['inf_labels','dayofweek','hour']).agg({'U_trip_ID':'count'})\n",
    "h = h.reset_index()"
   ]
  },
  {
   "cell_type": "code",
   "execution_count": 122,
   "metadata": {},
   "outputs": [],
   "source": [
    "#for breaking apart the trips by transport mode to display as a heatmap\n",
    "h1 = h[h['inf_labels']=='walk'].pivot(index='hour', columns='dayofweek', values='U_trip_ID')\n",
    "h3 = h[h['inf_labels']=='bus'].pivot(index='hour', columns='dayofweek', values='U_trip_ID')\n",
    "h6 = h[h['inf_labels']=='train'].pivot(index='hour', columns='dayofweek', values='U_trip_ID')\n",
    "h4 = h[h['inf_labels']=='car'].pivot(index='hour', columns='dayofweek', values='U_trip_ID')"
   ]
  },
  {
   "cell_type": "code",
   "execution_count": 123,
   "metadata": {},
   "outputs": [
    {
     "data": {
      "image/png": "[encoded data removed]",
      "text/plain": [
       "<Figure size 576x576 with 2 Axes>"
      ]
     },
     "metadata": {
      "needs_background": "light"
     },
     "output_type": "display_data"
    }
   ],
   "source": [
    "import seaborn as sns\n",
    "#create overall weekly heatmap\n",
    "fig4 = plt.figure(figsize=(8, 8))\n",
    "sns.set(font_scale=1.5)\n",
    "sns.heatmap(g, cmap=\"Greens\")\n",
    "#fig4.savefig(\"temporal_all_washFINAL.png\")\n",
    "plt.show()"
   ]
  },
  {
   "cell_type": "code",
   "execution_count": 124,
   "metadata": {},
   "outputs": [
    {
     "data": {
      "image/png": "[encoded data removed]",
      "text/plain": [
       "<Figure size 1080x1152 with 8 Axes>"
      ]
     },
     "metadata": {},
     "output_type": "display_data"
    }
   ],
   "source": [
    "#Generate figure size as 15x16\n",
    "fig4 = plt.figure(figsize=(15, 16))\n",
    "#layout 2cols by 3rows\n",
    "spec4 = fig4.add_gridspec(ncols=2, nrows=2)\n",
    "\n",
    "#generate subplots in formation\n",
    "f4_ax1 = fig4.add_subplot(spec4[0, 0])\n",
    "f4_ax2 = fig4.add_subplot(spec4[0, 1])\n",
    "f4_ax3 = fig4.add_subplot(spec4[1, 0])\n",
    "f4_ax4 = fig4.add_subplot(spec4[1, 1])\n",
    "\n",
    "sns.heatmap(h1, cmap=\"Blues\", ax = f4_ax1)\n",
    "sns.heatmap(h3, cmap=\"Blues\", ax = f4_ax2)\n",
    "sns.heatmap(h6, cmap=\"Blues\", ax = f4_ax3)\n",
    "sns.heatmap(h4, cmap=\"Blues\", ax = f4_ax4)\n",
    "\n",
    "f4_ax1.set_title('Walking')\n",
    "f4_ax2.set_title('Bus')\n",
    "f4_ax3.set_title('Train')\n",
    "f4_ax4.set_title('Car')\n",
    "\n",
    "fig4.suptitle(\"Figure 2 - Temporal Heatmaps per transport mode \" ,\n",
    "                 fontsize=14, fontweight='bold'\n",
    "                  )\n",
    "#fig4.savefig(\"temporal_modes_washFINAL.png\")\n",
    "plt.show()"
   ]
  },
  {
   "cell_type": "markdown",
   "metadata": {},
   "source": [
    "## Create Confusion matrix"
   ]
  },
  {
   "cell_type": "code",
   "execution_count": 125,
   "metadata": {},
   "outputs": [],
   "source": [
    "modes = ['walk','bus','car','train','x_unclassified']\n",
    "cat_type2 = CategoricalDtype(categories=modes, ordered=True)\n",
    "trips['inf_labels'] = trips['inf_labels'].astype(cat_type2)\n",
    "trips['label'] = trips['label'].astype(cat_type2)"
   ]
  },
  {
   "cell_type": "code",
   "execution_count": 126,
   "metadata": {},
   "outputs": [
    {
     "data": {
      "text/plain": [
       "<AxesSubplot:xlabel='Predicted', ylabel='Actual'>"
      ]
     },
     "execution_count": 126,
     "metadata": {},
     "output_type": "execute_result"
    },
    {
     "data": {
      "image/png": "[encoded data removed]",
      "text/plain": [
       "<Figure size 720x504 with 2 Axes>"
      ]
     },
     "metadata": {},
     "output_type": "display_data"
    }
   ],
   "source": [
    "y_true = trips['label']\n",
    "y_pred = trips['inf_labels']\n",
    "data = confusion_matrix(y_true, y_pred)\n",
    "df_cm = pd.DataFrame(data, columns=np.unique(y_pred), index = np.unique(y_pred))\n",
    "df_cm.index.name = 'Actual'\n",
    "df_cm.columns.name = 'Predicted'\n",
    "plt.figure(figsize = (10,7))\n",
    "sns.set(font_scale=1.4)#for label size\n",
    "sns.heatmap(df_cm, cmap=\"Blues\", annot=True,annot_kws={\"size\": 16})# font size"
   ]
  },
  {
   "cell_type": "code",
   "execution_count": 127,
   "metadata": {},
   "outputs": [
    {
     "name": "stderr",
     "output_type": "stream",
     "text": [
      "C:\\Users\\ant-r\\Miniconda3\\envs\\gds\\lib\\site-packages\\ipykernel_launcher.py:4: RuntimeWarning: invalid value encountered in true_divide\n",
      "  after removing the cwd from sys.path.\n"
     ]
    },
    {
     "data": {
      "image/png": "[encoded data removed]",
      "text/plain": [
       "<Figure size 720x720 with 2 Axes>"
      ]
     },
     "metadata": {},
     "output_type": "display_data"
    }
   ],
   "source": [
    "def plot_cm(y_true, y_pred, figsize=(10,10)):\n",
    "    cm = confusion_matrix(y_true, y_pred, labels=np.unique(y_pred))\n",
    "    cm_sum = np.sum(cm, axis=1, keepdims=True)\n",
    "    cm_perc = cm / cm_sum.astype(float) * 100\n",
    "    annot = np.empty_like(cm).astype(str)\n",
    "    nrows, ncols = cm.shape\n",
    "    for i in range(nrows):\n",
    "        for j in range(ncols):\n",
    "            c = cm[i, j]\n",
    "            p = cm_perc[i, j]\n",
    "            if i == j:\n",
    "                s = cm_sum[i]\n",
    "                annot[i, j] = '%.1f%%\\n%d/%d' % (p, c, s)\n",
    "            elif c == 0:\n",
    "                annot[i, j] = ''\n",
    "            else:\n",
    "                annot[i, j] = '%.1f%%\\n%d' % (p, c)\n",
    "    cm = pd.DataFrame(cm, index=np.unique(y_pred), columns=np.unique(y_pred))\n",
    "    cm.index.name = 'Actual'\n",
    "    cm.columns.name = 'Predicted'\n",
    "    fig, ax = plt.subplots(figsize=figsize)\n",
    "    sns.heatmap(cm, cmap= \"YlGnBu\", annot=annot, fmt='', ax=ax)\n",
    "    fig.savefig(\"confusion_matrix_FINAL.png\")\n",
    "plot_cm(y_true, y_pred)"
   ]
  },
  {
   "cell_type": "markdown",
   "metadata": {},
   "source": [
    "## Retreive Individual Confusion Matrix"
   ]
  },
  {
   "cell_type": "code",
   "execution_count": 128,
   "metadata": {},
   "outputs": [],
   "source": [
    "wrong_labelled[['inf_labels']] = wrong_labelled[['inf_labels']].fillna(value=0)"
   ]
  },
  {
   "cell_type": "code",
   "execution_count": 129,
   "metadata": {},
   "outputs": [],
   "source": [
    "wrong_labelled['inf_labels'] = wrong_labelled.apply(mode_of_trans2, axis=1)\n",
    "wrong_labelled['label'] = wrong_labelled.apply(mode_of_trans, axis=1)\n",
    "walk_and_train['inf_labels'] = walk_and_train.apply(mode_of_trans2, axis=1)\n",
    "walk_and_train['label'] = walk_and_train.apply(mode_of_trans, axis=1)\n",
    "#append tables\n",
    "walk_and_train2 = walk_and_train.append(wrong_labelled)\n",
    "cars_and_rest['label'] = cars_and_rest.apply(mode_of_trans, axis=1)\n",
    "cars_and_rest['inf_labels'] = cars_and_rest.apply(mode_of_trans2, axis=1)"
   ]
  },
  {
   "cell_type": "code",
   "execution_count": 130,
   "metadata": {},
   "outputs": [],
   "source": [
    "y_true_justT = walk_and_train2['label']\n",
    "y_pred_justT = walk_and_train2['inf_labels']"
   ]
  },
  {
   "cell_type": "markdown",
   "metadata": {},
   "source": [
    "### Rules-Based Confuion Matrix"
   ]
  },
  {
   "cell_type": "code",
   "execution_count": 131,
   "metadata": {},
   "outputs": [
    {
     "name": "stderr",
     "output_type": "stream",
     "text": [
      "C:\\Users\\ant-r\\Miniconda3\\envs\\gds\\lib\\site-packages\\ipykernel_launcher.py:5: RuntimeWarning: invalid value encountered in true_divide\n",
      "  \"\"\"\n"
     ]
    },
    {
     "data": {
      "text/plain": [
       "<AxesSubplot:xlabel='Predicted', ylabel='Actual'>"
      ]
     },
     "execution_count": 131,
     "metadata": {},
     "output_type": "execute_result"
    },
    {
     "data": {
      "image/png": "[encoded data removed]",
      "text/plain": [
       "<Figure size 720x720 with 1 Axes>"
      ]
     },
     "metadata": {},
     "output_type": "display_data"
    }
   ],
   "source": [
    "# Generate confusion matrix\n",
    "cm = confusion_matrix(y_true_justT, y_pred_justT, labels=np.unique(modes))\n",
    "\n",
    "cm_sum = np.sum(cm, axis=1, keepdims=True)\n",
    "cm_perc = cm / cm_sum.astype(float) * 100\n",
    "annot = np.empty_like(cm).astype(str)\n",
    "nrows, ncols = cm.shape\n",
    "for i in range(nrows):\n",
    "        for j in range(ncols):\n",
    "            c = cm[i, j]\n",
    "            p = cm_perc[i, j]\n",
    "            if i == j:\n",
    "                s = cm_sum[i]\n",
    "                annot[i, j] = '%.1f%%\\n%d/%d' % (p, c, s)\n",
    "            elif c == 0:\n",
    "                annot[i, j] = ''\n",
    "            else:\n",
    "                annot[i, j] = '%.1f%%\\n%d' % (p, c)\n",
    "cm = pd.DataFrame(cm, index=np.unique(modes), columns=np.unique(modes))\n",
    "cm.drop(['bus', 'car', 'walk'], axis=1, inplace=True)\n",
    "cm.drop(['x_unclassified'], axis=0, inplace=True)\n",
    "annot = np.delete(annot, np.s_[0:2], axis=1) \n",
    "annot = np.delete(annot, np.s_[1], axis=1) \n",
    "annot = np.delete(annot, np.s_[4], axis=0) \n",
    "for lst in annot:\n",
    "    for j, item in enumerate(lst):\n",
    "        lst[j] = item.replace('100.0%\\n', '')\n",
    "#annot = np.empty_like(cm).astype(str)\n",
    "cm.index.name = 'Actual'\n",
    "cm.columns.name = 'Predicted'\n",
    "fig, ax = plt.subplots(figsize=(10,10))\n",
    "\n",
    "sns.heatmap(cm, cmap= \"OrRd\", annot=annot, fmt='', ax=ax, cbar=False)\n",
    "#fig.savefig(\"confusion_matrix_trains_2FINAL.png\")"
   ]
  },
  {
   "cell_type": "code",
   "execution_count": 132,
   "metadata": {},
   "outputs": [],
   "source": [
    "y_true_justrf = cars_and_rest['label']\n",
    "y_pred_justrf = cars_and_rest['inf_labels']"
   ]
  },
  {
   "cell_type": "code",
   "execution_count": 133,
   "metadata": {},
   "outputs": [
    {
     "data": {
      "text/plain": [
       "<AxesSubplot:xlabel='Predicted', ylabel='Actual'>"
      ]
     },
     "execution_count": 133,
     "metadata": {},
     "output_type": "execute_result"
    },
    {
     "data": {
      "image/png": "[encoded data removed]",
      "text/plain": [
       "<Figure size 720x720 with 1 Axes>"
      ]
     },
     "metadata": {},
     "output_type": "display_data"
    }
   ],
   "source": [
    "# Generate confusion matrix\n",
    "cm = confusion_matrix(y_true_justrf, y_pred_justrf, labels=np.unique(y_pred_justrf))\n",
    "cm_sum = np.sum(cm, axis=1, keepdims=True)\n",
    "cm_perc = cm / cm_sum.astype(float) * 100\n",
    "annot = np.empty_like(cm).astype(str)\n",
    "nrows, ncols = cm.shape\n",
    "for i in range(nrows):\n",
    "        for j in range(ncols):\n",
    "            c = cm[i, j]\n",
    "            p = cm_perc[i, j]\n",
    "            if i == j:\n",
    "                s = cm_sum[i]\n",
    "                annot[i, j] = '%.1f%%\\n%d/%d' % (p, c, s)\n",
    "            elif c == 0:\n",
    "                annot[i, j] = ''\n",
    "            else:\n",
    "                annot[i, j] = '%.1f%%\\n%d' % (p, c)\n",
    "cm = pd.DataFrame(cm, index=np.unique(y_pred_justrf), columns=np.unique(y_pred_justrf))\n",
    "cm.index.name = 'Actual'\n",
    "cm.columns.name = 'Predicted'\n",
    "fig, ax = plt.subplots(figsize=(10,10))\n",
    "\n",
    "sns.heatmap(cm, cmap= \"OrRd\", annot=annot, fmt='', ax=ax, cbar=False)\n",
    "#fig.savefig(\"confusion_matrix_cars_w_b_FINAL.png\")"
   ]
  },
  {
   "cell_type": "code",
   "execution_count": 134,
   "metadata": {},
   "outputs": [
    {
     "name": "stdout",
     "output_type": "stream",
     "text": [
      "                precision    recall  f1-score   support\n",
      "\n",
      "           bus       0.00      0.00      0.00         8\n",
      "           car       0.00      0.00      0.00         6\n",
      "         train       0.94      0.44      0.60       798\n",
      "          walk       0.00      0.00      0.00        10\n",
      "x_unclassified       0.00      0.00      0.00         0\n",
      "\n",
      "      accuracy                           0.43       822\n",
      "     macro avg       0.19      0.09      0.12       822\n",
      "  weighted avg       0.91      0.43      0.58       822\n",
      "\n"
     ]
    }
   ],
   "source": [
    "print(classification_report(y_true_justT, y_pred_justT, zero_division=0)) #AFTER TRAIN INFERENCE"
   ]
  },
  {
   "cell_type": "code",
   "execution_count": 135,
   "metadata": {},
   "outputs": [
    {
     "name": "stdout",
     "output_type": "stream",
     "text": [
      "              precision    recall  f1-score   support\n",
      "\n",
      "         bus       0.82      0.82      0.82      1821\n",
      "         car       0.83      0.78      0.81      1078\n",
      "        walk       0.88      0.90      0.89      2118\n",
      "\n",
      "    accuracy                           0.85      5017\n",
      "   macro avg       0.84      0.84      0.84      5017\n",
      "weighted avg       0.85      0.85      0.85      5017\n",
      "\n"
     ]
    }
   ],
   "source": [
    "print(classification_report(y_true_justrf, y_pred_justrf)) #AFTER OTHER MODES INFERENCE"
   ]
  },
  {
   "cell_type": "code",
   "execution_count": 136,
   "metadata": {},
   "outputs": [
    {
     "name": "stdout",
     "output_type": "stream",
     "text": [
      "                precision    recall  f1-score   support\n",
      "\n",
      "           bus       0.82      0.82      0.82      1829\n",
      "           car       0.83      0.78      0.80      1084\n",
      "         train       0.94      0.44      0.60       798\n",
      "          walk       0.88      0.90      0.89      2128\n",
      "x_unclassified       0.00      0.00      0.00         0\n",
      "\n",
      "      accuracy                           0.79      5839\n",
      "     macro avg       0.69      0.59      0.62      5839\n",
      "  weighted avg       0.86      0.79      0.81      5839\n",
      "\n"
     ]
    }
   ],
   "source": [
    "print(classification_report(trips['label'], trips['inf_labels'], zero_division=0)) #OVER ALL DATA"
   ]
  },
  {
   "cell_type": "markdown",
   "metadata": {},
   "source": [
    "### Overall Bar charts"
   ]
  },
  {
   "cell_type": "code",
   "execution_count": 137,
   "metadata": {},
   "outputs": [],
   "source": [
    "list1 = pd.DataFrame(trips['label'].value_counts()).reset_index()\n",
    "list2 = pd.DataFrame(trips['inf_labels'].value_counts()).reset_index()"
   ]
  },
  {
   "cell_type": "code",
   "execution_count": 138,
   "metadata": {},
   "outputs": [],
   "source": [
    "bar = pd.merge(list1,list2,on='index')"
   ]
  },
  {
   "cell_type": "code",
   "execution_count": 139,
   "metadata": {},
   "outputs": [],
   "source": [
    "bar = bar.rename(columns={'index':'Transport_Mode'})"
   ]
  },
  {
   "cell_type": "code",
   "execution_count": 140,
   "metadata": {},
   "outputs": [
    {
     "data": {
      "text/plain": [
       "<Figure size 432x288 with 0 Axes>"
      ]
     },
     "metadata": {},
     "output_type": "display_data"
    },
    {
     "data": {
      "image/png": "[encoded data removed]",
      "text/plain": [
       "<Figure size 432x288 with 1 Axes>"
      ]
     },
     "metadata": {},
     "output_type": "display_data"
    }
   ],
   "source": [
    "ax = plt.figure()\n",
    "bar.plot.bar(x='Transport_Mode')\n",
    "plt.xticks(rotation=45)\n",
    "plt.legend(bbox_to_anchor=(1.05, 1), loc='upper left')\n",
    "#plt.set_xlabel('Transport Modes')\n",
    "plt.savefig(\"count_plot_results_FINAL.png\")\n",
    "plt.show()"
   ]
  },
  {
   "cell_type": "markdown",
   "metadata": {},
   "source": [
    "### Extract the model"
   ]
  },
  {
   "cell_type": "code",
   "execution_count": null,
   "metadata": {},
   "outputs": [],
   "source": [
    "pickle.dump(rf_estimator, open('model_rf7_fresh.pkl','wb'))"
   ]
  },
  {
   "cell_type": "markdown",
   "metadata": {},
   "source": [
    "## Create Origin Destination Matrix"
   ]
  },
  {
   "cell_type": "code",
   "execution_count": null,
   "metadata": {},
   "outputs": [],
   "source": [
    "trips['labels'] = trips['labels'].astype(str)"
   ]
  },
  {
   "cell_type": "code",
   "execution_count": null,
   "metadata": {},
   "outputs": [],
   "source": [
    "trips['labels'] = trips.apply(mode_of_trans, axis=1)"
   ]
  },
  {
   "cell_type": "code",
   "execution_count": null,
   "metadata": {},
   "outputs": [],
   "source": [
    "#make a centroid point on the hex polygons\n",
    "hex_grid['centroid'] = hex_grid.geometry.centroid\n",
    "hex_grid6['centroid'] = hex_grid6.geometry.centroid"
   ]
  },
  {
   "cell_type": "code",
   "execution_count": null,
   "metadata": {},
   "outputs": [],
   "source": [
    "#function to make a line a point for the origin point of the trip\n",
    "def linestring_to_points(line):\n",
    "    return line.coords[0]"
   ]
  },
  {
   "cell_type": "code",
   "execution_count": null,
   "metadata": {},
   "outputs": [],
   "source": [
    "from shapely import wkt"
   ]
  },
  {
   "cell_type": "code",
   "execution_count": null,
   "metadata": {},
   "outputs": [],
   "source": [
    "tripsA = gpd.GeoDataFrame(tripsA, geometry ='geometry' , crs='epsg:4326')"
   ]
  },
  {
   "cell_type": "code",
   "execution_count": null,
   "metadata": {},
   "outputs": [],
   "source": [
    "#function to make a line a point for the destination point of the trip\n",
    "def linestring_to_points_end(line):\n",
    "    return line.coords[-1]"
   ]
  },
  {
   "cell_type": "markdown",
   "metadata": {},
   "source": [
    "### Define variables fo the end of the trip"
   ]
  },
  {
   "cell_type": "code",
   "execution_count": null,
   "metadata": {},
   "outputs": [],
   "source": [
    "tripsA['end_points'] = tripsA.apply(lambda l: linestring_to_points_end(l['geometry']),axis=1)\n",
    "trips_end = tripsA.loc[:,['U_trip_ID','end_points']]\n",
    "trips_end.rename(columns = {'end_points':'geometry'}, inplace = True)\n",
    "trips_end['geometry']=gpd.points_from_xy(trips_end['geometry'].str[0], trips_end['geometry'].str[1])\n",
    "trips_end = gpd.GeoDataFrame(trips_end, geometry='geometry', crs=\"EPSG:4326\")\n",
    "trips_end = gpd.sjoin(trips_end, hex_grid, how=\"inner\", rsuffix=\"7\" )\n",
    "trips_end = trips_end.loc[:, trips_end.columns != 'index_7']\n",
    "trips_end = gpd.sjoin(trips_end, hex_grid6, how=\"inner\", rsuffix=\"6\" )\n",
    "trips_end = trips_end.loc[:, trips_end.columns != 'index_6']\n",
    "trips_end = trips_end.rename(columns={'hex_id_left':'hex_id_7', 'centroid_left':'centroid_7'})"
   ]
  },
  {
   "cell_type": "markdown",
   "metadata": {},
   "source": [
    "### Define variables for the start of the trip"
   ]
  },
  {
   "cell_type": "code",
   "execution_count": null,
   "metadata": {},
   "outputs": [],
   "source": [
    "tripsA['start_points'] = tripsA.apply(lambda l: linestring_to_points(l['geometry']),axis=1)\n",
    "trips_start = tripsA.loc[:,['U_trip_ID','total_trip_time','overall_full_dist','velo_mean','train_conf','bus_conf','min_dist_trns','dist_trns_line','labels','start_points','geometry','hour','dayofweek']]\n",
    "trips_start['start_points']=gpd.points_from_xy(trips_start['start_points'].str[0], trips_start['start_points'].str[1])\n",
    "trips_start = gpd.GeoDataFrame(trips_start, geometry='start_points', crs=\"EPSG:4326\")\n",
    "trips_start = gpd.sjoin(trips_start, hex_grid, how=\"inner\", rsuffix=\"7\" )\n",
    "trips_start = trips_start.loc[:, trips_start.columns != 'index_7']\n",
    "trips_start = gpd.sjoin(trips_start, hex_grid6, how=\"inner\", rsuffix=\"6\" )\n",
    "trips_start = trips_start.loc[:, trips_start.columns != 'index_6']\n",
    "trips_start = trips_start.rename(columns={'hex_id_left':'hex_id_7', 'centroid_left':'centroid_7'})"
   ]
  },
  {
   "cell_type": "code",
   "execution_count": null,
   "metadata": {},
   "outputs": [],
   "source": [
    "#give the trip feature just a start and end geoemtry \n",
    "TripsA = pd.merge(trips_start, trips_end, left_on='U_trip_ID',right_on='U_trip_ID', suffixes=('_start', '_end'))\n",
    "#rename geoemtry start to geoemtry so it can be make a geodataframe\n",
    "TripsA.rename(columns = {'geometry_start':'geometry'}, inplace = True)\n",
    "#set the geoemtry col\n",
    "TripsA = TripsA.set_geometry('geometry')\n",
    "TripsA = gpd.GeoDataFrame(TripsA, geometry='geometry', crs=\"EPSG:4326\")"
   ]
  },
  {
   "cell_type": "code",
   "execution_count": null,
   "metadata": {},
   "outputs": [],
   "source": [
    "#extract the lat and long of the start and end of the trip for the centroid of the hex polygon (zoom level 7)\n",
    "TripsA['source_long_7'] = TripsA.centroid_7_start.x\n",
    "TripsA['source_lat_7'] = TripsA.centroid_7_start.y\n",
    "TripsA['end_long_7'] = TripsA.centroid_7_end.x\n",
    "TripsA['end_lat_7'] = TripsA.centroid_7_end.y"
   ]
  },
  {
   "cell_type": "code",
   "execution_count": null,
   "metadata": {},
   "outputs": [],
   "source": [
    "#extract the lat and long of the start and end of the trip for the centroid of the hex polygon (zoom level 6)\n",
    "TripsA['source_long_6'] = TripsA.centroid_6_start.x\n",
    "TripsA['source_lat_6'] = TripsA.centroid_6_start.y\n",
    "TripsA['end_long_6'] = TripsA.centroid_6_end.x\n",
    "TripsA['end_lat_6'] = TripsA.centroid_6_end.y"
   ]
  },
  {
   "cell_type": "code",
   "execution_count": null,
   "metadata": {},
   "outputs": [],
   "source": [
    "#change the labels from numbers to strings\n",
    "def mode_of_trans(row):\n",
    "    if row['labels'] == '1':\n",
    "        val = 'walk'\n",
    "    elif row['labels'] == '3':\n",
    "        val = 'bus'\n",
    "    elif row['labels'] == '4':\n",
    "        val = 'car'\n",
    "    else:\n",
    "        val = 'train'\n",
    "    return val"
   ]
  },
  {
   "cell_type": "code",
   "execution_count": null,
   "metadata": {},
   "outputs": [],
   "source": [
    "#apply the fuction to make string names\n",
    "TripsA['labels'] = TripsA.apply(mode_of_trans, axis=1)"
   ]
  },
  {
   "cell_type": "code",
   "execution_count": null,
   "metadata": {},
   "outputs": [],
   "source": [
    "#define the hex_ids covering Washington CBD\n",
    "columns1 = ['862aa845fffffff','862aa844fffffff',  '862aa8447ffffff', '862aa8457ffffff']"
   ]
  },
  {
   "cell_type": "markdown",
   "metadata": {},
   "source": [
    "## Grouped trips by label at zoom level 6 with same OD"
   ]
  },
  {
   "cell_type": "code",
   "execution_count": null,
   "metadata": {},
   "outputs": [],
   "source": [
    "#group the trips with the same start and end \n",
    "TripsA_grouped6 = TripsA.groupby(['hex_id_6_start','hex_id_6_end']).agg({'U_trip_ID':'count','overall_full_dist':'mean','total_trip_time':'mean','velo_mean':'mean','source_long_6':'first','source_lat_6':'first','end_long_6':'first','end_lat_6':'first'}).reset_index()\n",
    "#group the trips with the same start and end and labels\n",
    "TripsA_grouped6_labels = TripsA.groupby(['hex_id_6_start','hex_id_6_end','labels']).agg({'U_trip_ID':'count','overall_full_dist':'mean','total_trip_time':'mean','velo_mean':'mean','source_long_6':'first','source_lat_6':'first','end_long_6':'first','end_lat_6':'first'}).reset_index()\n",
    "#ensure there is more than for trips within a hex cell\n",
    "TripsA_grouped6_labels = TripsA_grouped6_labels[TripsA_grouped6_labels['U_trip_ID']>=4]\n",
    "#make the Uid a count label as this is what is represents\n",
    "TripsA_grouped6_labels = TripsA_grouped6_labels.rename(columns={'U_trip_ID': 'count'})\n",
    "#make the labels a string\n",
    "TripsA_grouped6_labels['labels'] = TripsA_grouped6_labels['labels'].astype(str)\n",
    "#make sure that the start is not the same as the end hex cell\n",
    "TripsA_grouped6_labels = TripsA_grouped6_labels[TripsA_grouped6_labels['hex_id_6_start'] != TripsA_grouped6_labels['hex_id_6_end']]"
   ]
  },
  {
   "cell_type": "code",
   "execution_count": null,
   "metadata": {},
   "outputs": [],
   "source": [
    "All_everywhere = TripsA_grouped6_labels[TripsA_grouped6_labels['count']>5]\n",
    "All_everywhere.to_csv(r'All_everywhereFINAL.csv', index = False)"
   ]
  },
  {
   "cell_type": "markdown",
   "metadata": {},
   "source": [
    "### top ten trips by label"
   ]
  },
  {
   "cell_type": "code",
   "execution_count": null,
   "metadata": {},
   "outputs": [],
   "source": [
    "#extract from all the trips grouped with same origin and destination and label\n",
    "TripsA_grouped6_labelsTop10 = TripsA_grouped6_labels.groupby([\"labels\"]).apply(lambda x: x.sort_values([\"U_trip_ID\"], ascending = False)).reset_index(drop=True)\n",
    "#grab the top ten\n",
    "TripsA_grouped6_labelsTop10 = TripsA_grouped6_labelsTop10.head(10)"
   ]
  },
  {
   "cell_type": "markdown",
   "metadata": {},
   "source": [
    "### Extract trips at zoom level 7 for each transport mode"
   ]
  },
  {
   "cell_type": "code",
   "execution_count": null,
   "metadata": {},
   "outputs": [],
   "source": [
    "#cgroup trips with same start and end and label\n",
    "TripsA_grouped7 = TripsA.groupby(['hex_id_7_start','hex_id_7_end','labels']).agg({'U_trip_ID':'count','overall_full_dist':'mean','total_trip_time':'mean','velo_mean':'mean','source_long_7':'first','source_lat_7':'first','end_long_7':'first','end_lat_7':'first'}).reset_index()\n",
    "#end must be different to the start\n",
    "TripsA_grouped7 = TripsA_grouped7[TripsA_grouped7['hex_id_7_start'] != TripsA_grouped7['hex_id_7_end']]\n",
    "#rename the count \n",
    "TripsA_grouped7 = TripsA_grouped7.rename(columns={'U_trip_ID': 'count'})\n",
    "#extract each mode by label\n",
    "walk = TripsA_grouped7[TripsA_grouped7['labels']=='walk'].reset_index(drop=True)\n",
    "car = TripsA_grouped7[TripsA_grouped7['labels']=='car'].reset_index(drop=True)\n",
    "bus = TripsA_grouped7[TripsA_grouped7['labels']=='bus'].reset_index(drop=True)\n",
    "train = TripsA_grouped6_labels[TripsA_grouped6_labels['labels']=='train'].reset_index(drop=True)"
   ]
  },
  {
   "cell_type": "markdown",
   "metadata": {},
   "source": [
    "### Process to get trips by transport label without a specific direction"
   ]
  },
  {
   "cell_type": "markdown",
   "metadata": {},
   "source": [
    "Process define in first cell is same in all modes"
   ]
  },
  {
   "cell_type": "code",
   "execution_count": null,
   "metadata": {},
   "outputs": [],
   "source": [
    "#break the start and end into a lsit column\n",
    "car['list']=car[['hex_id_7_start','hex_id_7_end']].values.tolist()\n",
    "#apply sorting to the list\n",
    "car['list']= car['list'].apply(sorted)\n",
    "#take the first in the list now as the start (not actually start but just the first we will take)\n",
    "car['hex_id_7_start'] = car['list'].str[0]\n",
    "#take the second in the list and make this the second geom\n",
    "car['hex_id_7_end'] = car['list'].str[1]\n",
    "#take the cars witht he same routes\n",
    "car = car.groupby(['hex_id_7_start','hex_id_7_end']).agg({'count':'sum','overall_full_dist':'mean','total_trip_time':'mean','velo_mean':'mean','source_long_7':'first','source_lat_7':'first','end_long_7':'first','end_lat_7':'first'}).reset_index()\n",
    "#sort the cars by count\n",
    "car = car.sort_values('count', ascending = False).head(10).reset_index()"
   ]
  },
  {
   "cell_type": "code",
   "execution_count": null,
   "metadata": {},
   "outputs": [],
   "source": [
    "walk['list']=walk[['hex_id_7_start','hex_id_7_end']].values.tolist()\n",
    "walk['list']= walk['list'].apply(sorted)\n",
    "walk['hex_id_7_start'] = walk['list'].str[0]\n",
    "walk['hex_id_7_end'] = walk['list'].str[1]\n",
    "walk = walk.groupby(['hex_id_7_start','hex_id_7_end']).agg({'count':'sum','total_trip_time':'mean','overall_full_dist':'mean','velo_mean':'mean','source_long_7':'first','source_lat_7':'first','end_long_7':'first','end_lat_7':'first'}).reset_index()\n",
    "walk = walk.sort_values('count', ascending = False).head(5).reset_index()"
   ]
  },
  {
   "cell_type": "code",
   "execution_count": null,
   "metadata": {},
   "outputs": [],
   "source": [
    "train['list']=train[['hex_id_6_start','hex_id_6_end']].values.tolist()\n",
    "train['list']= train['list'].apply(sorted)\n",
    "train['hex_id_6_start'] = train['list'].str[0]\n",
    "train['hex_id_6_end'] = train['list'].str[1]\n",
    "train = train.groupby(['hex_id_6_start','hex_id_6_end']).agg({'count':'sum','total_trip_time':'mean','overall_full_dist':'mean','velo_mean':'mean','source_long_6':'first','source_lat_6':'first','end_long_6':'first','end_lat_6':'first'}).reset_index()\n",
    "train = train.sort_values('count', ascending = False).head(5).reset_index()"
   ]
  },
  {
   "cell_type": "code",
   "execution_count": null,
   "metadata": {},
   "outputs": [],
   "source": [
    "bus['list']=bus[['hex_id_7_start','hex_id_7_end']].values.tolist()\n",
    "bus['list']= bus['list'].apply(sorted)\n",
    "bus['hex_id_7_start'] = bus['list'].str[0]\n",
    "bus['hex_id_7_end'] = bus['list'].str[1]\n",
    "bus = bus.groupby(['hex_id_7_start','hex_id_7_end']).agg({'count':'sum','total_trip_time':'mean','overall_full_dist':'mean','velo_mean':'mean','source_long_7':'first','source_lat_7':'first','end_long_7':'first','end_lat_7':'first'}).reset_index()\n",
    "bus = bus.sort_values('count', ascending = False).head(10).reset_index()"
   ]
  },
  {
   "cell_type": "code",
   "execution_count": null,
   "metadata": {},
   "outputs": [],
   "source": [
    "#extract transport mode routes \n",
    "car.to_csv(r'cars2FINAL.csv', index = False)\n",
    "bus.to_csv(r'bus2FINAL.csv', index = False)\n",
    "walk.to_csv(r'walk2FINAL.csv', index = False)\n",
    "train.to_csv(r'trainsFINAL.csv', index = False)"
   ]
  },
  {
   "cell_type": "markdown",
   "metadata": {},
   "source": [
    "### Take the trips going in and out of the city centre by transport mode"
   ]
  },
  {
   "cell_type": "code",
   "execution_count": null,
   "metadata": {},
   "outputs": [],
   "source": [
    "#take cars that start in the city centre\n",
    "TripsA_grouped6_out_city_car = car[car['hex_id_6_start'].isin(columns1)].sort_values('count', ascending = False)\n",
    "TripsA_grouped6_out_city_car = TripsA_grouped6_out_city_car[~TripsA_grouped6_out_city_car['hex_id_6_end'].isin(columns1)]\n",
    "#take buses that start in the city centre\n",
    "TripsA_grouped6_out_city_bus = bus[bus['hex_id_6_start'].isin(columns1)].sort_values('count', ascending = False)\n",
    "TripsA_grouped6_out_city_bus = TripsA_grouped6_out_city_bus[~TripsA_grouped6_out_city_bus['hex_id_6_end'].isin(columns1)]\n",
    "##take walker that start in the city centre\n",
    "TripsA_grouped6_out_city_walk = walk[walk['hex_id_6_start'].isin(columns1)].sort_values('count', ascending = False)\n",
    "TripsA_grouped6_out_city_walk = TripsA_grouped6_out_city_walk[~TripsA_grouped6_out_city_walk['hex_id_6_end'].isin(columns1)]\n",
    "##take trains that start in the city centre\n",
    "TripsA_grouped6_out_city_train = train[train['hex_id_6_start'].isin(columns1)].sort_values('count', ascending = False)\n",
    "TripsA_grouped6_out_city_train = TripsA_grouped6_out_city_train[~TripsA_grouped6_out_city_train['hex_id_6_end'].isin(columns1)]"
   ]
  },
  {
   "cell_type": "code",
   "execution_count": null,
   "metadata": {},
   "outputs": [],
   "source": [
    "# Take all trips going in and out of city centre (not by transport mode)\n",
    "TripsA_grouped6_out_city = TripsA_grouped6[TripsA_grouped6['hex_id_6_start'].isin(columns1)].sort_values('U_trip_ID', ascending = False)\n",
    "TripsA_grouped6_out_city = TripsA_grouped6_out_city[~TripsA_grouped6_out_city['hex_id_6_end'].isin(columns1)]\n",
    "TripsA_grouped6_in_city = TripsA_grouped6[TripsA_grouped6['hex_id_6_end'].isin(columns1)].sort_values('U_trip_ID', ascending = False)\n",
    "TripsA_grouped6_in_city = TripsA_grouped6_in_city[~TripsA_grouped6_in_city['hex_id_6_start'].isin(columns1)]"
   ]
  },
  {
   "cell_type": "code",
   "execution_count": null,
   "metadata": {},
   "outputs": [],
   "source": [
    "#Take all trips into the city centre (not by transport mode)\n",
    "TripsA_grouped6_in_city = TripsA_grouped6_in_city.reset_index()\n",
    "TripsA_grouped6_in_city = TripsA_grouped6_in_city.sort_values('count', ascending = False).head(15)\n",
    "TripsA_grouped6_out_city = TripsA_grouped6_out_city.reset_index()\n",
    "TripsA_grouped6_out_city = TripsA_grouped6_out_city.sort_values('count', ascending = False).head(15)"
   ]
  },
  {
   "cell_type": "code",
   "execution_count": null,
   "metadata": {},
   "outputs": [],
   "source": [
    "#extract the labeled in and out of city centre trips\n",
    "TripsA_grouped6_out_city_car.to_csv(r'TripsA_grouped6_out_city_car.csv', index = False)\n",
    "TripsA_grouped6_out_city_bus.to_csv(r'TripsA_grouped6_out_city_bus.csv', index = False)\n",
    "TripsA_grouped6_out_city_walk.to_csv(r'TripsA_grouped6_out_city_walk.csv', index = False)\n",
    "TripsA_grouped6_out_city_train.to_csv(r'TripsA_grouped6_out_city_trains.csv', index = False)"
   ]
  },
  {
   "cell_type": "code",
   "execution_count": null,
   "metadata": {},
   "outputs": [],
   "source": [
    "#TripsA_grouped6_labels.to_csv(r'TripsA_grouped6_labelsFINAL.csv', index = False)"
   ]
  },
  {
   "cell_type": "markdown",
   "metadata": {},
   "source": [
    "### Take the trips going in and out of the city at certain times"
   ]
  },
  {
   "cell_type": "code",
   "execution_count": null,
   "metadata": {},
   "outputs": [],
   "source": [
    "#define a function to label trips between specific hours (morning and evening peak travel)\n",
    "def label_time(row):\n",
    "    if (row['hour'] >= 6) & (row['hour'] <= 10)  :\n",
    "        val= 'am'\n",
    "    elif (row['hour'] >= 16) & (row['hour'] <= 20) :\n",
    "        val= 'pm'\n",
    "    else:\n",
    "        val= None\n",
    "    return val"
   ]
  },
  {
   "cell_type": "code",
   "execution_count": null,
   "metadata": {},
   "outputs": [],
   "source": [
    "#apply function\n",
    "TripsA['time'] = TripsA.apply(label_time, axis=1) \n",
    "##only retain the trips on a weekday\n",
    "TripsA_weekday = TripsA[~TripsA['dayofweek'].isin(['sat','sun'])]\n",
    "#ensure that the start is not the same as the end\n",
    "TripsA_time = TripsA_weekday[TripsA_weekday['hex_id_7_start'] != TripsA_weekday['hex_id_7_end']]\n",
    "#rename the trip id column to a count\n",
    "TripsA_time = TripsA_time.rename(columns={'U_trip_ID': 'count'})\n",
    "#only keep the weekdays\n",
    "TripsA_time = TripsA_time[TripsA_time.time.notnull()]"
   ]
  },
  {
   "cell_type": "code",
   "execution_count": null,
   "metadata": {},
   "outputs": [],
   "source": [
    "#groupby trips with the same destination and the 2 times 'am' and 'pm'\n",
    "TripsA_time  = TripsA_time.groupby(['hex_id_7_end', 'time']).agg({'count':'count'}).reset_index()\n",
    "TripsA_time = TripsA_time[TripsA_time['count']>=3]"
   ]
  },
  {
   "cell_type": "code",
   "execution_count": null,
   "metadata": {},
   "outputs": [],
   "source": [
    "#extract trips\n",
    "TripsA_time[TripsA_time['time']=='am'].to_csv(r'am_trips_weekFINAL.csv', index = False)\n",
    "TripsA_time[TripsA_time['time']=='pm'].to_csv(r'pm_trips_weekFINAL.csv', index = False)"
   ]
  },
  {
   "cell_type": "markdown",
   "metadata": {},
   "source": [
    "### Take the trips going in and out of the city centre by any transport mode"
   ]
  },
  {
   "cell_type": "code",
   "execution_count": null,
   "metadata": {},
   "outputs": [],
   "source": [
    "#start cannot be same as end\n",
    "TripsA_grouped6 = TripsA_grouped6[TripsA_grouped6['hex_id_6_start'] != TripsA_grouped6['hex_id_6_end']]\n",
    "#rename the count col\n",
    "TripsA_grouped6 = TripsA_grouped6.rename(columns={'U_trip_ID': 'count'})\n",
    "#group all those going out of the city and sort by count\n",
    "TripsA_grouped6_out_city = TripsA_grouped6[TripsA_grouped6['hex_id_6_start'].isin(columns1)].sort_values('count', ascending = False)\n",
    "TripsA_grouped6_out_city = TripsA_grouped6_out_city[~TripsA_grouped6_out_city['hex_id_6_end'].isin(columns1)]\n",
    "#group those going into the city and sort by count\n",
    "TripsA_grouped6_in_city = TripsA_grouped6[TripsA_grouped6['hex_id_6_end'].isin(columns1)].sort_values('count', ascending = False)\n",
    "TripsA_grouped6_in_city = TripsA_grouped6_in_city[~TripsA_grouped6_in_city['hex_id_6_start'].isin(columns1)]\n",
    "TripsA_grouped6_in_city = TripsA_grouped6_in_city.reset_index(drop=True)\n",
    "TripsA_grouped6_out_city = TripsA_grouped6_out_city.reset_index(drop=True)\n",
    "#ensure they are over 4km trips\n",
    "TripsA_grouped6_out_cityTop10_far = TripsA_grouped6_out_city[TripsA_grouped6_out_city['overall_full_dist']>=4].head(10).reset_index(drop=True)\n",
    "TripsA_grouped6_in_cityTop10_far = TripsA_grouped6_in_city[TripsA_grouped6_in_city['overall_full_dist']>=4].head(10).reset_index(drop=True)"
   ]
  },
  {
   "cell_type": "markdown",
   "metadata": {},
   "source": [
    "### In and out of city centre by distance over 4km"
   ]
  },
  {
   "cell_type": "code",
   "execution_count": null,
   "metadata": {},
   "outputs": [],
   "source": [
    "TripsA_grouped6_in_cityTop10_far = TripsA_grouped6_in_cityTop10_far[TripsA_grouped6_in_cityTop10_far['count']>4]\n",
    "TripsA_grouped6_out_cityTop10_far = TripsA_grouped6_out_cityTop10_far[TripsA_grouped6_out_cityTop10_far['count']>4]"
   ]
  },
  {
   "cell_type": "code",
   "execution_count": null,
   "metadata": {},
   "outputs": [],
   "source": [
    "TripsA_grouped6_in_cityTop10_far.to_csv(r'TripsA_grouped6_in_city_dist10aFINAL.csv', index = False)\n",
    "TripsA_grouped6_out_cityTop10_far.to_csv(r'TripsA_grouped6_out_city_dist10aFINAL.csv', index = False)"
   ]
  },
  {
   "cell_type": "code",
   "execution_count": null,
   "metadata": {},
   "outputs": [],
   "source": [
    "TripsA_grouped6_out_city_labels = TripsA_grouped6_labels[TripsA_grouped6_labels['hex_id_6_start'].isin(columns1)].sort_values('count', ascending = False)\n",
    "TripsA_grouped6_out_city_labels = TripsA_grouped6_out_city_labels[~TripsA_grouped6_out_city_labels['hex_id_6_end'].isin(columns1)]\n",
    "TripsA_grouped6_in_city_labels = TripsA_grouped6_labels[TripsA_grouped6_labels['hex_id_6_end'].isin(columns1)].sort_values('count', ascending = False)\n",
    "TripsA_grouped6_in_city_labels = TripsA_grouped6_in_city_labels[~TripsA_grouped6_in_city_labels['hex_id_6_start'].isin(columns1)]"
   ]
  },
  {
   "cell_type": "code",
   "execution_count": null,
   "metadata": {},
   "outputs": [],
   "source": [
    "TripsA_grouped6_in_city_labels.to_csv(r'TripsA_grouped6_in_city_labelsFINAL.csv', index = False)\n",
    "TripsA_grouped6_out_city_labels.to_csv(r'TripsA_grouped6_out_city_labelsFINAL.csv', index = False)"
   ]
  }
 ],
 "metadata": {
  "kernelspec": {
   "display_name": "Python 3",
   "language": "python",
   "name": "python3"
  },
  "language_info": {
   "codemirror_mode": {
    "name": "ipython",
    "version": 3
   },
   "file_extension": ".py",
   "mimetype": "text/x-python",
   "name": "python",
   "nbconvert_exporter": "python",
   "pygments_lexer": "ipython3",
   "version": "3.7.8"
  }
 },
 "nbformat": 4,
 "nbformat_minor": 4
}
